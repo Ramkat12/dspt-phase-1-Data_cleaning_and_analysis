{
 "cells": [
  {
   "cell_type": "markdown",
   "metadata": {
    "id": "pD2haiIMWQ_g"
   },
   "source": [
    "# Data analysis with Pandas\n"
   ]
  },
  {
   "cell_type": "markdown",
   "metadata": {
    "id": "p8ibQ1EIW_mA"
   },
   "source": [
    "**Lecture Overview**\n",
    "\n",
    "1. Data exploration in Pandas\n",
    "2. Data cleaning\n",
    "3. Data analysis in Pandas  \n",
    "  i. Univariate analysis  \n",
    "  ii. Bivariate analysis\n",
    "4. Special functions for analysis in pandas or otherwise\n"
   ]
  },
  {
   "cell_type": "markdown",
   "metadata": {
    "id": "uimuWvyCYn0q"
   },
   "source": [
    "## Data Exploration\n",
    "\n",
    "![exp](https://www.trainanddevelop.ca/wp-content/uploads/2021/08/Magnifying-glass-on-charts-graphs-spreadsheet-paper-1-scaled.jpeg)\n",
    "Once a data scientist acquires the data, they have to review it before making any decisions about the data/the project. This process includes the following:\n",
    "1. Loading the data\n",
    "2. Check the data and datatypes.\n",
    "3. Note any cleaning and/or engineering to be done.\n",
    "\n",
    "Let's work through these steps using the following dataset:\n",
    "\n",
    "[Student data](https://github.com/Moringa-School-Classroom/dspt-phase-1-Data_cleaning_and_analysis/blob/main/students_data.csv)"
   ]
  },
  {
   "cell_type": "code",
   "execution_count": 67,
   "metadata": {
    "id": "0xVoene0fCY5"
   },
   "outputs": [],
   "source": [
    "# Loading needed libraries\n",
    "import numpy as np\n",
    "import pandas as pd"
   ]
  },
  {
   "cell_type": "markdown",
   "metadata": {
    "id": "hh2j-HCAfN__"
   },
   "source": [
    "**Loading data**\n",
    "\n",
    "We load data into a data structure called a **dataframe**. A dataframe contains rows and columns; it can be easily manipulated hence appropriate for data analysis."
   ]
  },
  {
   "cell_type": "code",
   "execution_count": 68,
   "metadata": {
    "id": "rvYfj-vlfTrW"
   },
   "outputs": [],
   "source": [
    "df = pd.read_csv('students_data.csv', index_col=0)\n",
    "# using the index_col=0 argument avoid having the index column as unnamed:0"
   ]
  },
  {
   "cell_type": "markdown",
   "metadata": {
    "id": "uetOlWVGiOy-"
   },
   "source": [
    "![#f03c15](https://placehold.co/15x15/f03c15/f03c15.png) `What other pandas functions can be used to load data?`"
   ]
  },
  {
   "cell_type": "code",
   "execution_count": 69,
   "metadata": {
    "cellView": "form",
    "id": "pNxFMPDZiOaf"
   },
   "outputs": [],
   "source": [
    "#@title\n",
    "# df = pd.read_excel(\"data.xlsx\")\n",
    "\n",
    "# df = pd.read_json(\"data.json\")\n",
    "\n",
    "# df_list = pd.read_html(\"data.html\")\n",
    "\n",
    "# df = pd.read_pickle(\"data.pkl\")\n",
    "\n",
    "# from sqlalchemy import create_engine\n",
    "# engine = create_engine('sqlite:///mydatabase.db')\n",
    "# df = pd.read_sql_query('SELECT * FROM mytable', engine)"
   ]
  },
  {
   "cell_type": "code",
   "execution_count": 70,
   "metadata": {
    "colab": {
     "base_uri": "https://localhost:8080/",
     "height": 206
    },
    "id": "KYkmm5DKgDP3",
    "outputId": "7533c2c7-7264-4fea-b7fe-28717b984e98"
   },
   "outputs": [
    {
     "data": {
      "text/html": [
       "<div>\n",
       "<style scoped>\n",
       "    .dataframe tbody tr th:only-of-type {\n",
       "        vertical-align: middle;\n",
       "    }\n",
       "\n",
       "    .dataframe tbody tr th {\n",
       "        vertical-align: top;\n",
       "    }\n",
       "\n",
       "    .dataframe thead th {\n",
       "        text-align: right;\n",
       "    }\n",
       "</style>\n",
       "<table border=\"1\" class=\"dataframe\">\n",
       "  <thead>\n",
       "    <tr style=\"text-align: right;\">\n",
       "      <th></th>\n",
       "      <th>names</th>\n",
       "      <th>admission number</th>\n",
       "      <th>house</th>\n",
       "      <th>balance</th>\n",
       "      <th>english</th>\n",
       "      <th>kiswahili</th>\n",
       "      <th>mathematics</th>\n",
       "      <th>science</th>\n",
       "      <th>sst/cre</th>\n",
       "      <th>Creative Arts</th>\n",
       "      <th>music</th>\n",
       "    </tr>\n",
       "  </thead>\n",
       "  <tbody>\n",
       "    <tr>\n",
       "      <th>0</th>\n",
       "      <td>JERIEL NDEDA, OBURA</td>\n",
       "      <td>13259.0</td>\n",
       "      <td>NaN</td>\n",
       "      <td>NaN</td>\n",
       "      <td>81.0</td>\n",
       "      <td>39.0</td>\n",
       "      <td>50.0</td>\n",
       "      <td>30.0</td>\n",
       "      <td>59.0</td>\n",
       "      <td>99%</td>\n",
       "      <td>80%</td>\n",
       "    </tr>\n",
       "    <tr>\n",
       "      <th>1</th>\n",
       "      <td>MUKUHA TIMOTHY, KAMAU</td>\n",
       "      <td>13243.0</td>\n",
       "      <td>NaN</td>\n",
       "      <td>NaN</td>\n",
       "      <td>85.0</td>\n",
       "      <td>74.0</td>\n",
       "      <td>68.0</td>\n",
       "      <td>49.0</td>\n",
       "      <td>78.0</td>\n",
       "      <td>38%</td>\n",
       "      <td>86%</td>\n",
       "    </tr>\n",
       "    <tr>\n",
       "      <th>2</th>\n",
       "      <td>JOB, NGARA</td>\n",
       "      <td>13307.0</td>\n",
       "      <td>NaN</td>\n",
       "      <td>NaN</td>\n",
       "      <td>54.0</td>\n",
       "      <td>49.0</td>\n",
       "      <td>53.0</td>\n",
       "      <td>59.0</td>\n",
       "      <td>72.0</td>\n",
       "      <td>86%</td>\n",
       "      <td>62%</td>\n",
       "    </tr>\n",
       "    <tr>\n",
       "      <th>3</th>\n",
       "      <td>CHEGE DAVID, KAMAU</td>\n",
       "      <td>13258.0</td>\n",
       "      <td>NaN</td>\n",
       "      <td>NaN</td>\n",
       "      <td>71.0</td>\n",
       "      <td>97.0</td>\n",
       "      <td>92.0</td>\n",
       "      <td>41.0</td>\n",
       "      <td>81.0</td>\n",
       "      <td>77%</td>\n",
       "      <td>80%</td>\n",
       "    </tr>\n",
       "    <tr>\n",
       "      <th>4</th>\n",
       "      <td>RAMADHAN MUSA, TEPO</td>\n",
       "      <td>13363.0</td>\n",
       "      <td>NaN</td>\n",
       "      <td>NaN</td>\n",
       "      <td>40.0</td>\n",
       "      <td>84.0</td>\n",
       "      <td>74.0</td>\n",
       "      <td>82.0</td>\n",
       "      <td>89.0</td>\n",
       "      <td>64%</td>\n",
       "      <td>46%</td>\n",
       "    </tr>\n",
       "  </tbody>\n",
       "</table>\n",
       "</div>"
      ],
      "text/plain": [
       "                   names  admission number house balance  english  kiswahili  \\\n",
       "0    JERIEL NDEDA, OBURA           13259.0   NaN     NaN     81.0       39.0   \n",
       "1  MUKUHA TIMOTHY, KAMAU           13243.0   NaN     NaN     85.0       74.0   \n",
       "2             JOB, NGARA           13307.0   NaN     NaN     54.0       49.0   \n",
       "3     CHEGE DAVID, KAMAU           13258.0   NaN     NaN     71.0       97.0   \n",
       "4    RAMADHAN MUSA, TEPO           13363.0   NaN     NaN     40.0       84.0   \n",
       "\n",
       "   mathematics  science  sst/cre Creative Arts music  \n",
       "0         50.0     30.0     59.0           99%   80%  \n",
       "1         68.0     49.0     78.0           38%   86%  \n",
       "2         53.0     59.0     72.0           86%   62%  \n",
       "3         92.0     41.0     81.0           77%   80%  \n",
       "4         74.0     82.0     89.0           64%   46%  "
      ]
     },
     "execution_count": 70,
     "metadata": {},
     "output_type": "execute_result"
    }
   ],
   "source": [
    "# Check if the loading was successful\n",
    "df.head(5) # checks for the first 5 rows"
   ]
  },
  {
   "cell_type": "code",
   "execution_count": 71,
   "metadata": {
    "colab": {
     "base_uri": "https://localhost:8080/",
     "height": 206
    },
    "id": "Izum2ycwgLLC",
    "outputId": "f97252ad-0c62-457f-8002-13d3f270cb21"
   },
   "outputs": [
    {
     "data": {
      "text/html": [
       "<div>\n",
       "<style scoped>\n",
       "    .dataframe tbody tr th:only-of-type {\n",
       "        vertical-align: middle;\n",
       "    }\n",
       "\n",
       "    .dataframe tbody tr th {\n",
       "        vertical-align: top;\n",
       "    }\n",
       "\n",
       "    .dataframe thead th {\n",
       "        text-align: right;\n",
       "    }\n",
       "</style>\n",
       "<table border=\"1\" class=\"dataframe\">\n",
       "  <thead>\n",
       "    <tr style=\"text-align: right;\">\n",
       "      <th></th>\n",
       "      <th>names</th>\n",
       "      <th>admission number</th>\n",
       "      <th>house</th>\n",
       "      <th>balance</th>\n",
       "      <th>english</th>\n",
       "      <th>kiswahili</th>\n",
       "      <th>mathematics</th>\n",
       "      <th>science</th>\n",
       "      <th>sst/cre</th>\n",
       "      <th>Creative Arts</th>\n",
       "      <th>music</th>\n",
       "    </tr>\n",
       "  </thead>\n",
       "  <tbody>\n",
       "    <tr>\n",
       "      <th>142</th>\n",
       "      <td>TIMOTHY NDEDA, OBURA</td>\n",
       "      <td>13322634.0</td>\n",
       "      <td>Elgon</td>\n",
       "      <td>0</td>\n",
       "      <td>-78.0</td>\n",
       "      <td>40.0</td>\n",
       "      <td>99.0</td>\n",
       "      <td>70.0</td>\n",
       "      <td>49.0</td>\n",
       "      <td>99&amp;</td>\n",
       "      <td>92&amp;</td>\n",
       "    </tr>\n",
       "    <tr>\n",
       "      <th>143</th>\n",
       "      <td>MUKUHA JERIEL, NGARA</td>\n",
       "      <td>1932845.0</td>\n",
       "      <td>Cherangani</td>\n",
       "      <td>321</td>\n",
       "      <td>94.0</td>\n",
       "      <td>780.0</td>\n",
       "      <td>420.0</td>\n",
       "      <td>71.0</td>\n",
       "      <td>88.0</td>\n",
       "      <td>56%</td>\n",
       "      <td>76%</td>\n",
       "    </tr>\n",
       "    <tr>\n",
       "      <th>144</th>\n",
       "      <td>JOB, KAMAU</td>\n",
       "      <td>1430232.0</td>\n",
       "      <td>Nandi</td>\n",
       "      <td>43,200</td>\n",
       "      <td>98.0</td>\n",
       "      <td>80.0</td>\n",
       "      <td>86.0</td>\n",
       "      <td>64.0</td>\n",
       "      <td>99.0</td>\n",
       "      <td>49%</td>\n",
       "      <td>69%</td>\n",
       "    </tr>\n",
       "    <tr>\n",
       "      <th>145</th>\n",
       "      <td>CHEGE, KAMAU</td>\n",
       "      <td>159.0</td>\n",
       "      <td>Nandi</td>\n",
       "      <td>NaN</td>\n",
       "      <td>508.0</td>\n",
       "      <td>409.0</td>\n",
       "      <td>77.0</td>\n",
       "      <td>58.0</td>\n",
       "      <td>56.0</td>\n",
       "      <td>88%</td>\n",
       "      <td>84%</td>\n",
       "    </tr>\n",
       "    <tr>\n",
       "      <th>146</th>\n",
       "      <td>RAMADHAN, MUSA</td>\n",
       "      <td>87.0</td>\n",
       "      <td>Cherangani</td>\n",
       "      <td>NaN</td>\n",
       "      <td>81.0</td>\n",
       "      <td>70.0</td>\n",
       "      <td>64.0</td>\n",
       "      <td>680.0</td>\n",
       "      <td>88.0</td>\n",
       "      <td>76%</td>\n",
       "      <td>72%</td>\n",
       "    </tr>\n",
       "  </tbody>\n",
       "</table>\n",
       "</div>"
      ],
      "text/plain": [
       "                    names  admission number       house balance  english  \\\n",
       "142  TIMOTHY NDEDA, OBURA        13322634.0       Elgon       0    -78.0   \n",
       "143  MUKUHA JERIEL, NGARA         1932845.0  Cherangani     321     94.0   \n",
       "144            JOB, KAMAU         1430232.0       Nandi  43,200     98.0   \n",
       "145          CHEGE, KAMAU             159.0       Nandi     NaN    508.0   \n",
       "146        RAMADHAN, MUSA              87.0  Cherangani     NaN     81.0   \n",
       "\n",
       "     kiswahili  mathematics  science  sst/cre Creative Arts music  \n",
       "142       40.0         99.0     70.0     49.0           99&   92&  \n",
       "143      780.0        420.0     71.0     88.0           56%   76%  \n",
       "144       80.0         86.0     64.0     99.0           49%   69%  \n",
       "145      409.0         77.0     58.0     56.0           88%   84%  \n",
       "146       70.0         64.0    680.0     88.0           76%   72%  "
      ]
     },
     "execution_count": 71,
     "metadata": {},
     "output_type": "execute_result"
    }
   ],
   "source": [
    "df.tail(5) # checks for the last 5 rows"
   ]
  },
  {
   "cell_type": "markdown",
   "metadata": {
    "id": "cjWNxSV3gVPS"
   },
   "source": [
    "![#f03c15](https://placehold.co/15x15/f03c15/f03c15.png) `What can you notice when previewing the data?`"
   ]
  },
  {
   "cell_type": "markdown",
   "metadata": {
    "id": "RI-px5jQhdu0"
   },
   "source": [
    "**Checking the data and datatypes**"
   ]
  },
  {
   "cell_type": "code",
   "execution_count": 72,
   "metadata": {
    "colab": {
     "base_uri": "https://localhost:8080/"
    },
    "id": "eiRf9IpohdC0",
    "outputId": "7b1cec1a-793c-48f4-b89f-7211fcbd4d09"
   },
   "outputs": [
    {
     "data": {
      "text/plain": [
       "(147, 11)"
      ]
     },
     "execution_count": 72,
     "metadata": {},
     "output_type": "execute_result"
    }
   ],
   "source": [
    "df.shape # checks for the number of rows and columns"
   ]
  },
  {
   "cell_type": "code",
   "execution_count": 73,
   "metadata": {
    "colab": {
     "base_uri": "https://localhost:8080/"
    },
    "id": "YA01okcmkF3b",
    "outputId": "76ab5e0e-3817-4772-ec80-01d2ddaca637"
   },
   "outputs": [
    {
     "data": {
      "text/plain": [
       "Index(['names', 'admission number', 'house', 'balance', 'english', 'kiswahili',\n",
       "       'mathematics', 'science', 'sst/cre', 'Creative Arts', 'music'],\n",
       "      dtype='object')"
      ]
     },
     "execution_count": 73,
     "metadata": {},
     "output_type": "execute_result"
    }
   ],
   "source": [
    "df.columns # prints out the column names"
   ]
  },
  {
   "cell_type": "code",
   "execution_count": 74,
   "metadata": {
    "colab": {
     "base_uri": "https://localhost:8080/"
    },
    "id": "7w5qNfqphq50",
    "outputId": "468e12ae-7ea6-45e7-efb7-74f287db431c"
   },
   "outputs": [
    {
     "name": "stdout",
     "output_type": "stream",
     "text": [
      "<class 'pandas.core.frame.DataFrame'>\n",
      "Int64Index: 147 entries, 0 to 146\n",
      "Data columns (total 11 columns):\n",
      " #   Column            Non-Null Count  Dtype  \n",
      "---  ------            --------------  -----  \n",
      " 0   names             147 non-null    object \n",
      " 1   admission number  124 non-null    float64\n",
      " 2   house             26 non-null     object \n",
      " 3   balance           58 non-null     object \n",
      " 4   english           121 non-null    float64\n",
      " 5   kiswahili         119 non-null    float64\n",
      " 6   mathematics       130 non-null    float64\n",
      " 7   science           117 non-null    float64\n",
      " 8   sst/cre           132 non-null    float64\n",
      " 9   Creative Arts     143 non-null    object \n",
      " 10  music             147 non-null    object \n",
      "dtypes: float64(6), object(5)\n",
      "memory usage: 13.8+ KB\n"
     ]
    }
   ],
   "source": [
    "df.info() # checks for the overview of the data"
   ]
  },
  {
   "cell_type": "code",
   "execution_count": 75,
   "metadata": {
    "colab": {
     "base_uri": "https://localhost:8080/",
     "height": 300
    },
    "id": "PztnM3jEjrvH",
    "outputId": "fbef9d4d-a827-4b32-ce06-e31ad0078ad2"
   },
   "outputs": [
    {
     "data": {
      "text/html": [
       "<div>\n",
       "<style scoped>\n",
       "    .dataframe tbody tr th:only-of-type {\n",
       "        vertical-align: middle;\n",
       "    }\n",
       "\n",
       "    .dataframe tbody tr th {\n",
       "        vertical-align: top;\n",
       "    }\n",
       "\n",
       "    .dataframe thead th {\n",
       "        text-align: right;\n",
       "    }\n",
       "</style>\n",
       "<table border=\"1\" class=\"dataframe\">\n",
       "  <thead>\n",
       "    <tr style=\"text-align: right;\">\n",
       "      <th></th>\n",
       "      <th>admission number</th>\n",
       "      <th>english</th>\n",
       "      <th>kiswahili</th>\n",
       "      <th>mathematics</th>\n",
       "      <th>science</th>\n",
       "      <th>sst/cre</th>\n",
       "    </tr>\n",
       "  </thead>\n",
       "  <tbody>\n",
       "    <tr>\n",
       "      <th>count</th>\n",
       "      <td>1.240000e+02</td>\n",
       "      <td>121.000000</td>\n",
       "      <td>119.000000</td>\n",
       "      <td>130.000000</td>\n",
       "      <td>117.000000</td>\n",
       "      <td>132.000000</td>\n",
       "    </tr>\n",
       "    <tr>\n",
       "      <th>mean</th>\n",
       "      <td>1.473303e+05</td>\n",
       "      <td>70.958678</td>\n",
       "      <td>74.764706</td>\n",
       "      <td>72.938462</td>\n",
       "      <td>68.179487</td>\n",
       "      <td>70.833333</td>\n",
       "    </tr>\n",
       "    <tr>\n",
       "      <th>std</th>\n",
       "      <td>1.211743e+06</td>\n",
       "      <td>45.884710</td>\n",
       "      <td>74.971035</td>\n",
       "      <td>35.293180</td>\n",
       "      <td>60.666928</td>\n",
       "      <td>18.617142</td>\n",
       "    </tr>\n",
       "    <tr>\n",
       "      <th>min</th>\n",
       "      <td>8.700000e+01</td>\n",
       "      <td>-78.000000</td>\n",
       "      <td>29.000000</td>\n",
       "      <td>32.000000</td>\n",
       "      <td>28.000000</td>\n",
       "      <td>29.000000</td>\n",
       "    </tr>\n",
       "    <tr>\n",
       "      <th>25%</th>\n",
       "      <td>1.326200e+04</td>\n",
       "      <td>54.000000</td>\n",
       "      <td>49.500000</td>\n",
       "      <td>55.500000</td>\n",
       "      <td>46.000000</td>\n",
       "      <td>54.750000</td>\n",
       "    </tr>\n",
       "    <tr>\n",
       "      <th>50%</th>\n",
       "      <td>1.330650e+04</td>\n",
       "      <td>71.000000</td>\n",
       "      <td>66.000000</td>\n",
       "      <td>71.000000</td>\n",
       "      <td>66.000000</td>\n",
       "      <td>73.000000</td>\n",
       "    </tr>\n",
       "    <tr>\n",
       "      <th>75%</th>\n",
       "      <td>1.335625e+04</td>\n",
       "      <td>83.000000</td>\n",
       "      <td>82.500000</td>\n",
       "      <td>86.000000</td>\n",
       "      <td>79.000000</td>\n",
       "      <td>87.000000</td>\n",
       "    </tr>\n",
       "    <tr>\n",
       "      <th>max</th>\n",
       "      <td>1.332263e+07</td>\n",
       "      <td>508.000000</td>\n",
       "      <td>780.000000</td>\n",
       "      <td>420.000000</td>\n",
       "      <td>680.000000</td>\n",
       "      <td>100.000000</td>\n",
       "    </tr>\n",
       "  </tbody>\n",
       "</table>\n",
       "</div>"
      ],
      "text/plain": [
       "       admission number     english   kiswahili  mathematics     science  \\\n",
       "count      1.240000e+02  121.000000  119.000000   130.000000  117.000000   \n",
       "mean       1.473303e+05   70.958678   74.764706    72.938462   68.179487   \n",
       "std        1.211743e+06   45.884710   74.971035    35.293180   60.666928   \n",
       "min        8.700000e+01  -78.000000   29.000000    32.000000   28.000000   \n",
       "25%        1.326200e+04   54.000000   49.500000    55.500000   46.000000   \n",
       "50%        1.330650e+04   71.000000   66.000000    71.000000   66.000000   \n",
       "75%        1.335625e+04   83.000000   82.500000    86.000000   79.000000   \n",
       "max        1.332263e+07  508.000000  780.000000   420.000000  680.000000   \n",
       "\n",
       "          sst/cre  \n",
       "count  132.000000  \n",
       "mean    70.833333  \n",
       "std     18.617142  \n",
       "min     29.000000  \n",
       "25%     54.750000  \n",
       "50%     73.000000  \n",
       "75%     87.000000  \n",
       "max    100.000000  "
      ]
     },
     "execution_count": 75,
     "metadata": {},
     "output_type": "execute_result"
    }
   ],
   "source": [
    "df.describe() # check for a statistical summary of the data"
   ]
  },
  {
   "cell_type": "markdown",
   "metadata": {
    "id": "dcAfkn006Myz"
   },
   "source": [
    "## Data preprocessing and/or Cleaning\n",
    "\n",
    "* **Data cleaning** refers to the process of identifying and correcting or removing incorrect, incomplete, incorrectly formatted, corrupted, duplicate or irrelevant data within the provided data.\n",
    "\n",
    "while \n",
    "\n",
    "* **Data preprocessing** can refer to manipulation or dropping of data before it is used in order to ensure or enhance performance, and is an important step in the data mining process.\n",
    "\n",
    "\n",
    "There is no one  way to carry out data cleaning/preprocessing because the process will differ depending on the data at hand.\n",
    "\n"
   ]
  },
  {
   "cell_type": "markdown",
   "metadata": {
    "id": "a_jokNZe6My0"
   },
   "source": [
    "### What are the different types of data issues?\n",
    "\n",
    "* **Missing Data** - No data value is stored for an attribute in an observation hence data ends up with missing fields.\n",
    "* **Duplicated Entries** - An entry that shares data with another entry.\n",
    "* **Invalid Data** - This includes wrong data types and wrong data formats which in turn interferes with the analysis process.\n",
    "* **Conflicting Data** - Occurs when there are same records with different attributes example grams and kgs."
   ]
  },
  {
   "cell_type": "markdown",
   "metadata": {
    "id": "ejqM-HS26My9"
   },
   "source": [
    "### Dealing with missing values\n",
    "\n",
    "There are various methods of dealing with missing values:\n",
    "\n",
    "1. Drop missing values \n",
    "2. Fill/replace with mean/median/mode/, backward fill/forward fill, certain value\n",
    "3. Interpolate\n",
    "\n",
    "One selects the above methods based on a missing pattern.\n",
    "\n",
    "What is a missing pattern?\n",
    "\n",
    " *   Missing completely at random (MCAR): This occurs when the probability of a value being missing is the same for all observations and is not related to any other variables in the dataset.\n",
    "\n",
    " *   Missing at random (MAR): This occurs when the probability of a value being missing is related to one or more other variables in the dataset, but not the variable of interest.\n",
    "\n",
    " *   Missing not at random (MNAR): This occurs when the probability of a value being missing is related to the variable of interest.\n",
    "\n",
    " * ... etc"
   ]
  },
  {
   "cell_type": "markdown",
   "metadata": {
    "id": "8ohTcryYp-6V"
   },
   "source": [
    "Let's check for missing values."
   ]
  },
  {
   "cell_type": "code",
   "execution_count": 76,
   "metadata": {
    "colab": {
     "base_uri": "https://localhost:8080/",
     "height": 424
    },
    "id": "1jpz7F-Ll93Q",
    "outputId": "88815333-b120-4fa5-98fe-3913b46c864f"
   },
   "outputs": [
    {
     "data": {
      "text/html": [
       "<div>\n",
       "<style scoped>\n",
       "    .dataframe tbody tr th:only-of-type {\n",
       "        vertical-align: middle;\n",
       "    }\n",
       "\n",
       "    .dataframe tbody tr th {\n",
       "        vertical-align: top;\n",
       "    }\n",
       "\n",
       "    .dataframe thead th {\n",
       "        text-align: right;\n",
       "    }\n",
       "</style>\n",
       "<table border=\"1\" class=\"dataframe\">\n",
       "  <thead>\n",
       "    <tr style=\"text-align: right;\">\n",
       "      <th></th>\n",
       "      <th>names</th>\n",
       "      <th>admission number</th>\n",
       "      <th>house</th>\n",
       "      <th>balance</th>\n",
       "      <th>english</th>\n",
       "      <th>kiswahili</th>\n",
       "      <th>mathematics</th>\n",
       "      <th>science</th>\n",
       "      <th>sst/cre</th>\n",
       "      <th>Creative Arts</th>\n",
       "      <th>music</th>\n",
       "    </tr>\n",
       "  </thead>\n",
       "  <tbody>\n",
       "    <tr>\n",
       "      <th>0</th>\n",
       "      <td>False</td>\n",
       "      <td>False</td>\n",
       "      <td>True</td>\n",
       "      <td>True</td>\n",
       "      <td>False</td>\n",
       "      <td>False</td>\n",
       "      <td>False</td>\n",
       "      <td>False</td>\n",
       "      <td>False</td>\n",
       "      <td>False</td>\n",
       "      <td>False</td>\n",
       "    </tr>\n",
       "    <tr>\n",
       "      <th>1</th>\n",
       "      <td>False</td>\n",
       "      <td>False</td>\n",
       "      <td>True</td>\n",
       "      <td>True</td>\n",
       "      <td>False</td>\n",
       "      <td>False</td>\n",
       "      <td>False</td>\n",
       "      <td>False</td>\n",
       "      <td>False</td>\n",
       "      <td>False</td>\n",
       "      <td>False</td>\n",
       "    </tr>\n",
       "    <tr>\n",
       "      <th>2</th>\n",
       "      <td>False</td>\n",
       "      <td>False</td>\n",
       "      <td>True</td>\n",
       "      <td>True</td>\n",
       "      <td>False</td>\n",
       "      <td>False</td>\n",
       "      <td>False</td>\n",
       "      <td>False</td>\n",
       "      <td>False</td>\n",
       "      <td>False</td>\n",
       "      <td>False</td>\n",
       "    </tr>\n",
       "    <tr>\n",
       "      <th>3</th>\n",
       "      <td>False</td>\n",
       "      <td>False</td>\n",
       "      <td>True</td>\n",
       "      <td>True</td>\n",
       "      <td>False</td>\n",
       "      <td>False</td>\n",
       "      <td>False</td>\n",
       "      <td>False</td>\n",
       "      <td>False</td>\n",
       "      <td>False</td>\n",
       "      <td>False</td>\n",
       "    </tr>\n",
       "    <tr>\n",
       "      <th>4</th>\n",
       "      <td>False</td>\n",
       "      <td>False</td>\n",
       "      <td>True</td>\n",
       "      <td>True</td>\n",
       "      <td>False</td>\n",
       "      <td>False</td>\n",
       "      <td>False</td>\n",
       "      <td>False</td>\n",
       "      <td>False</td>\n",
       "      <td>False</td>\n",
       "      <td>False</td>\n",
       "    </tr>\n",
       "    <tr>\n",
       "      <th>...</th>\n",
       "      <td>...</td>\n",
       "      <td>...</td>\n",
       "      <td>...</td>\n",
       "      <td>...</td>\n",
       "      <td>...</td>\n",
       "      <td>...</td>\n",
       "      <td>...</td>\n",
       "      <td>...</td>\n",
       "      <td>...</td>\n",
       "      <td>...</td>\n",
       "      <td>...</td>\n",
       "    </tr>\n",
       "    <tr>\n",
       "      <th>142</th>\n",
       "      <td>False</td>\n",
       "      <td>False</td>\n",
       "      <td>False</td>\n",
       "      <td>False</td>\n",
       "      <td>False</td>\n",
       "      <td>False</td>\n",
       "      <td>False</td>\n",
       "      <td>False</td>\n",
       "      <td>False</td>\n",
       "      <td>False</td>\n",
       "      <td>False</td>\n",
       "    </tr>\n",
       "    <tr>\n",
       "      <th>143</th>\n",
       "      <td>False</td>\n",
       "      <td>False</td>\n",
       "      <td>False</td>\n",
       "      <td>False</td>\n",
       "      <td>False</td>\n",
       "      <td>False</td>\n",
       "      <td>False</td>\n",
       "      <td>False</td>\n",
       "      <td>False</td>\n",
       "      <td>False</td>\n",
       "      <td>False</td>\n",
       "    </tr>\n",
       "    <tr>\n",
       "      <th>144</th>\n",
       "      <td>False</td>\n",
       "      <td>False</td>\n",
       "      <td>False</td>\n",
       "      <td>False</td>\n",
       "      <td>False</td>\n",
       "      <td>False</td>\n",
       "      <td>False</td>\n",
       "      <td>False</td>\n",
       "      <td>False</td>\n",
       "      <td>False</td>\n",
       "      <td>False</td>\n",
       "    </tr>\n",
       "    <tr>\n",
       "      <th>145</th>\n",
       "      <td>False</td>\n",
       "      <td>False</td>\n",
       "      <td>False</td>\n",
       "      <td>True</td>\n",
       "      <td>False</td>\n",
       "      <td>False</td>\n",
       "      <td>False</td>\n",
       "      <td>False</td>\n",
       "      <td>False</td>\n",
       "      <td>False</td>\n",
       "      <td>False</td>\n",
       "    </tr>\n",
       "    <tr>\n",
       "      <th>146</th>\n",
       "      <td>False</td>\n",
       "      <td>False</td>\n",
       "      <td>False</td>\n",
       "      <td>True</td>\n",
       "      <td>False</td>\n",
       "      <td>False</td>\n",
       "      <td>False</td>\n",
       "      <td>False</td>\n",
       "      <td>False</td>\n",
       "      <td>False</td>\n",
       "      <td>False</td>\n",
       "    </tr>\n",
       "  </tbody>\n",
       "</table>\n",
       "<p>147 rows × 11 columns</p>\n",
       "</div>"
      ],
      "text/plain": [
       "     names  admission number  house  balance  english  kiswahili  mathematics  \\\n",
       "0    False             False   True     True    False      False        False   \n",
       "1    False             False   True     True    False      False        False   \n",
       "2    False             False   True     True    False      False        False   \n",
       "3    False             False   True     True    False      False        False   \n",
       "4    False             False   True     True    False      False        False   \n",
       "..     ...               ...    ...      ...      ...        ...          ...   \n",
       "142  False             False  False    False    False      False        False   \n",
       "143  False             False  False    False    False      False        False   \n",
       "144  False             False  False    False    False      False        False   \n",
       "145  False             False  False     True    False      False        False   \n",
       "146  False             False  False     True    False      False        False   \n",
       "\n",
       "     science  sst/cre  Creative Arts  music  \n",
       "0      False    False          False  False  \n",
       "1      False    False          False  False  \n",
       "2      False    False          False  False  \n",
       "3      False    False          False  False  \n",
       "4      False    False          False  False  \n",
       "..       ...      ...            ...    ...  \n",
       "142    False    False          False  False  \n",
       "143    False    False          False  False  \n",
       "144    False    False          False  False  \n",
       "145    False    False          False  False  \n",
       "146    False    False          False  False  \n",
       "\n",
       "[147 rows x 11 columns]"
      ]
     },
     "execution_count": 76,
     "metadata": {},
     "output_type": "execute_result"
    }
   ],
   "source": [
    "missing_values = df.isna()\n",
    "missing_values "
   ]
  },
  {
   "cell_type": "code",
   "execution_count": 77,
   "metadata": {
    "colab": {
     "base_uri": "https://localhost:8080/"
    },
    "id": "8AQxC3VuqcXa",
    "outputId": "2f1b63c1-6ced-4b84-86cd-66a73d7fe144"
   },
   "outputs": [
    {
     "data": {
      "text/plain": [
       "names                 0\n",
       "admission number     23\n",
       "house               121\n",
       "balance              89\n",
       "english              26\n",
       "kiswahili            28\n",
       "mathematics          17\n",
       "science              30\n",
       "sst/cre              15\n",
       "Creative Arts         4\n",
       "music                 0\n",
       "dtype: int64"
      ]
     },
     "execution_count": 77,
     "metadata": {},
     "output_type": "execute_result"
    }
   ],
   "source": [
    "# an interpretable version\n",
    "df.isna().sum()"
   ]
  },
  {
   "cell_type": "code",
   "execution_count": 78,
   "metadata": {
    "colab": {
     "base_uri": "https://localhost:8080/",
     "height": 332
    },
    "id": "CtsEBmf4rGyk",
    "outputId": "e4006546-fab2-4e4f-9ae1-603d5c04cc45"
   },
   "outputs": [
    {
     "data": {
      "text/html": [
       "<div>\n",
       "<style scoped>\n",
       "    .dataframe tbody tr th:only-of-type {\n",
       "        vertical-align: middle;\n",
       "    }\n",
       "\n",
       "    .dataframe tbody tr th {\n",
       "        vertical-align: top;\n",
       "    }\n",
       "\n",
       "    .dataframe thead th {\n",
       "        text-align: right;\n",
       "    }\n",
       "</style>\n",
       "<table border=\"1\" class=\"dataframe\">\n",
       "  <thead>\n",
       "    <tr style=\"text-align: right;\">\n",
       "      <th></th>\n",
       "      <th>Missing Values</th>\n",
       "      <th>Percentage(%)</th>\n",
       "    </tr>\n",
       "  </thead>\n",
       "  <tbody>\n",
       "    <tr>\n",
       "      <th>house</th>\n",
       "      <td>121</td>\n",
       "      <td>0.823129</td>\n",
       "    </tr>\n",
       "    <tr>\n",
       "      <th>balance</th>\n",
       "      <td>89</td>\n",
       "      <td>0.605442</td>\n",
       "    </tr>\n",
       "    <tr>\n",
       "      <th>science</th>\n",
       "      <td>30</td>\n",
       "      <td>0.204082</td>\n",
       "    </tr>\n",
       "    <tr>\n",
       "      <th>kiswahili</th>\n",
       "      <td>28</td>\n",
       "      <td>0.190476</td>\n",
       "    </tr>\n",
       "    <tr>\n",
       "      <th>english</th>\n",
       "      <td>26</td>\n",
       "      <td>0.176871</td>\n",
       "    </tr>\n",
       "    <tr>\n",
       "      <th>admission number</th>\n",
       "      <td>23</td>\n",
       "      <td>0.156463</td>\n",
       "    </tr>\n",
       "    <tr>\n",
       "      <th>mathematics</th>\n",
       "      <td>17</td>\n",
       "      <td>0.115646</td>\n",
       "    </tr>\n",
       "    <tr>\n",
       "      <th>sst/cre</th>\n",
       "      <td>15</td>\n",
       "      <td>0.102041</td>\n",
       "    </tr>\n",
       "    <tr>\n",
       "      <th>Creative Arts</th>\n",
       "      <td>4</td>\n",
       "      <td>0.027211</td>\n",
       "    </tr>\n",
       "  </tbody>\n",
       "</table>\n",
       "</div>"
      ],
      "text/plain": [
       "                  Missing Values  Percentage(%)\n",
       "house                        121       0.823129\n",
       "balance                       89       0.605442\n",
       "science                       30       0.204082\n",
       "kiswahili                     28       0.190476\n",
       "english                       26       0.176871\n",
       "admission number              23       0.156463\n",
       "mathematics                   17       0.115646\n",
       "sst/cre                       15       0.102041\n",
       "Creative Arts                  4       0.027211"
      ]
     },
     "execution_count": 78,
     "metadata": {},
     "output_type": "execute_result"
    }
   ],
   "source": [
    "# a more interpretable version\n",
    "def missing_values(data):\n",
    "    \"\"\"A simple function to identify data has missing values\"\"\"\n",
    "    # identify the total missing values per column\n",
    "    # sort in order \n",
    "    miss = data.isnull().sum().sort_values(ascending = False)\n",
    "\n",
    "    # calculate percentage of the missing values\n",
    "    percentage_miss = (data.isnull().sum() / len(data)).sort_values(ascending = False)\n",
    "\n",
    "    # store in a dataframe \n",
    "    missing = pd.DataFrame({\"Missing Values\": miss, \"Percentage(%)\": percentage_miss})\n",
    "\n",
    "    # remove values that are missing \n",
    "    missing.drop(missing[missing[\"Percentage(%)\"] == 0].index, inplace = True)\n",
    "\n",
    "    return missing\n",
    "\n",
    "\n",
    "missing_data = missing_values(df)\n",
    "missing_data"
   ]
  },
  {
   "cell_type": "markdown",
   "metadata": {
    "id": "q0UruxSgr1uz"
   },
   "source": [
    "![#c5f015](https://placehold.co/15x15/c5f015/c5f015.png) `The column house has ~82% of its values missing. Even if we are to take a guess, chances are we will most likely end up too much wrong information. Therefore, because of the amount of missing value we can safely drop the column house.`"
   ]
  },
  {
   "cell_type": "code",
   "execution_count": 79,
   "metadata": {
    "id": "5SZS-M1brv-p"
   },
   "outputs": [],
   "source": [
    "df.drop('house', axis = 1, inplace = True) #Drops the column house"
   ]
  },
  {
   "cell_type": "code",
   "execution_count": 80,
   "metadata": {
    "colab": {
     "base_uri": "https://localhost:8080/",
     "height": 112
    },
    "id": "enI3Utrfsi6A",
    "outputId": "d98b36a4-8a77-42d2-c216-4b9c3de5e26c"
   },
   "outputs": [
    {
     "data": {
      "text/html": [
       "<div>\n",
       "<style scoped>\n",
       "    .dataframe tbody tr th:only-of-type {\n",
       "        vertical-align: middle;\n",
       "    }\n",
       "\n",
       "    .dataframe tbody tr th {\n",
       "        vertical-align: top;\n",
       "    }\n",
       "\n",
       "    .dataframe thead th {\n",
       "        text-align: right;\n",
       "    }\n",
       "</style>\n",
       "<table border=\"1\" class=\"dataframe\">\n",
       "  <thead>\n",
       "    <tr style=\"text-align: right;\">\n",
       "      <th></th>\n",
       "      <th>names</th>\n",
       "      <th>admission number</th>\n",
       "      <th>balance</th>\n",
       "      <th>english</th>\n",
       "      <th>kiswahili</th>\n",
       "      <th>mathematics</th>\n",
       "      <th>science</th>\n",
       "      <th>sst/cre</th>\n",
       "      <th>Creative Arts</th>\n",
       "      <th>music</th>\n",
       "    </tr>\n",
       "  </thead>\n",
       "  <tbody>\n",
       "    <tr>\n",
       "      <th>0</th>\n",
       "      <td>JERIEL NDEDA, OBURA</td>\n",
       "      <td>13259.0</td>\n",
       "      <td>NaN</td>\n",
       "      <td>81.0</td>\n",
       "      <td>39.0</td>\n",
       "      <td>50.0</td>\n",
       "      <td>30.0</td>\n",
       "      <td>59.0</td>\n",
       "      <td>99%</td>\n",
       "      <td>80%</td>\n",
       "    </tr>\n",
       "    <tr>\n",
       "      <th>1</th>\n",
       "      <td>MUKUHA TIMOTHY, KAMAU</td>\n",
       "      <td>13243.0</td>\n",
       "      <td>NaN</td>\n",
       "      <td>85.0</td>\n",
       "      <td>74.0</td>\n",
       "      <td>68.0</td>\n",
       "      <td>49.0</td>\n",
       "      <td>78.0</td>\n",
       "      <td>38%</td>\n",
       "      <td>86%</td>\n",
       "    </tr>\n",
       "  </tbody>\n",
       "</table>\n",
       "</div>"
      ],
      "text/plain": [
       "                   names  admission number balance  english  kiswahili  \\\n",
       "0    JERIEL NDEDA, OBURA           13259.0     NaN     81.0       39.0   \n",
       "1  MUKUHA TIMOTHY, KAMAU           13243.0     NaN     85.0       74.0   \n",
       "\n",
       "   mathematics  science  sst/cre Creative Arts music  \n",
       "0         50.0     30.0     59.0           99%   80%  \n",
       "1         68.0     49.0     78.0           38%   86%  "
      ]
     },
     "execution_count": 80,
     "metadata": {},
     "output_type": "execute_result"
    }
   ],
   "source": [
    "df.head(2)"
   ]
  },
  {
   "cell_type": "markdown",
   "metadata": {
    "id": "sH3hw6i9tVNj"
   },
   "source": [
    "![#c5f015](https://placehold.co/15x15/c5f015/c5f015.png) `The column balance has ~60% of its values missing. What do you think is the best way to handle this data?`"
   ]
  },
  {
   "cell_type": "code",
   "execution_count": 81,
   "metadata": {
    "id": "mFFGlwJOtUNe"
   },
   "outputs": [],
   "source": [
    "# If you do have some real world knowledge about a variable,\n",
    "# you can use this information when replacing data, \n",
    "# for example, it is likely that the students with missing fee balances have no balance at all\n",
    "# so we can replace with zero, however, when analysing this column keep in mind that you have skewed this data point.\n",
    "\n",
    "df['balance'].replace(np.nan, 0, inplace=True, regex=False) # replaces nan with 0"
   ]
  },
  {
   "cell_type": "code",
   "execution_count": 82,
   "metadata": {
    "colab": {
     "base_uri": "https://localhost:8080/",
     "height": 112
    },
    "id": "A2-B6d-8uxLG",
    "outputId": "e0b71951-08c0-46c2-e255-671f75c1c2aa"
   },
   "outputs": [
    {
     "data": {
      "text/html": [
       "<div>\n",
       "<style scoped>\n",
       "    .dataframe tbody tr th:only-of-type {\n",
       "        vertical-align: middle;\n",
       "    }\n",
       "\n",
       "    .dataframe tbody tr th {\n",
       "        vertical-align: top;\n",
       "    }\n",
       "\n",
       "    .dataframe thead th {\n",
       "        text-align: right;\n",
       "    }\n",
       "</style>\n",
       "<table border=\"1\" class=\"dataframe\">\n",
       "  <thead>\n",
       "    <tr style=\"text-align: right;\">\n",
       "      <th></th>\n",
       "      <th>names</th>\n",
       "      <th>admission number</th>\n",
       "      <th>balance</th>\n",
       "      <th>english</th>\n",
       "      <th>kiswahili</th>\n",
       "      <th>mathematics</th>\n",
       "      <th>science</th>\n",
       "      <th>sst/cre</th>\n",
       "      <th>Creative Arts</th>\n",
       "      <th>music</th>\n",
       "    </tr>\n",
       "  </thead>\n",
       "  <tbody>\n",
       "    <tr>\n",
       "      <th>0</th>\n",
       "      <td>JERIEL NDEDA, OBURA</td>\n",
       "      <td>13259.0</td>\n",
       "      <td>0</td>\n",
       "      <td>81.0</td>\n",
       "      <td>39.0</td>\n",
       "      <td>50.0</td>\n",
       "      <td>30.0</td>\n",
       "      <td>59.0</td>\n",
       "      <td>99%</td>\n",
       "      <td>80%</td>\n",
       "    </tr>\n",
       "    <tr>\n",
       "      <th>1</th>\n",
       "      <td>MUKUHA TIMOTHY, KAMAU</td>\n",
       "      <td>13243.0</td>\n",
       "      <td>0</td>\n",
       "      <td>85.0</td>\n",
       "      <td>74.0</td>\n",
       "      <td>68.0</td>\n",
       "      <td>49.0</td>\n",
       "      <td>78.0</td>\n",
       "      <td>38%</td>\n",
       "      <td>86%</td>\n",
       "    </tr>\n",
       "  </tbody>\n",
       "</table>\n",
       "</div>"
      ],
      "text/plain": [
       "                   names  admission number balance  english  kiswahili  \\\n",
       "0    JERIEL NDEDA, OBURA           13259.0       0     81.0       39.0   \n",
       "1  MUKUHA TIMOTHY, KAMAU           13243.0       0     85.0       74.0   \n",
       "\n",
       "   mathematics  science  sst/cre Creative Arts music  \n",
       "0         50.0     30.0     59.0           99%   80%  \n",
       "1         68.0     49.0     78.0           38%   86%  "
      ]
     },
     "execution_count": 82,
     "metadata": {},
     "output_type": "execute_result"
    }
   ],
   "source": [
    "df.head(2)"
   ]
  },
  {
   "cell_type": "markdown",
   "metadata": {
    "id": "aE6xZLdHxW05"
   },
   "source": [
    "The columns english, **kiswahili, mathematics, science, sst/cre** are numeric columns with a very low perentage of missing values. We can replace them with the mean scores in those subjects."
   ]
  },
  {
   "cell_type": "code",
   "execution_count": 83,
   "metadata": {
    "id": "ZrxPh_opyTzw"
   },
   "outputs": [],
   "source": [
    "# Write a function that replaces nulls with mean simultaneously?"
   ]
  },
  {
   "cell_type": "code",
   "execution_count": 84,
   "metadata": {
    "cellView": "form",
    "id": "UAWaZ_5kxkR-"
   },
   "outputs": [],
   "source": [
    "#@title\n",
    "columns =['english', 'kiswahili', 'mathematics', 'science', 'sst/cre']\n",
    "def fill_numeric_missing(data, cols):\n",
    "    \"\"\"Simple function to replace missing values\"\"\"\n",
    "    for col in cols:\n",
    "        data[col].fillna(data[col].mean(), inplace=True)\n",
    "\n",
    "fill_numeric_missing(df, columns) "
   ]
  },
  {
   "cell_type": "code",
   "execution_count": 85,
   "metadata": {
    "colab": {
     "base_uri": "https://localhost:8080/",
     "height": 112
    },
    "id": "0reTjg0_yY0p",
    "outputId": "224791a9-81b5-4cdf-c65c-4f89d9302e3d"
   },
   "outputs": [
    {
     "data": {
      "text/html": [
       "<div>\n",
       "<style scoped>\n",
       "    .dataframe tbody tr th:only-of-type {\n",
       "        vertical-align: middle;\n",
       "    }\n",
       "\n",
       "    .dataframe tbody tr th {\n",
       "        vertical-align: top;\n",
       "    }\n",
       "\n",
       "    .dataframe thead th {\n",
       "        text-align: right;\n",
       "    }\n",
       "</style>\n",
       "<table border=\"1\" class=\"dataframe\">\n",
       "  <thead>\n",
       "    <tr style=\"text-align: right;\">\n",
       "      <th></th>\n",
       "      <th>Missing Values</th>\n",
       "      <th>Percentage(%)</th>\n",
       "    </tr>\n",
       "  </thead>\n",
       "  <tbody>\n",
       "    <tr>\n",
       "      <th>admission number</th>\n",
       "      <td>23</td>\n",
       "      <td>0.156463</td>\n",
       "    </tr>\n",
       "    <tr>\n",
       "      <th>Creative Arts</th>\n",
       "      <td>4</td>\n",
       "      <td>0.027211</td>\n",
       "    </tr>\n",
       "  </tbody>\n",
       "</table>\n",
       "</div>"
      ],
      "text/plain": [
       "                  Missing Values  Percentage(%)\n",
       "admission number              23       0.156463\n",
       "Creative Arts                  4       0.027211"
      ]
     },
     "execution_count": 85,
     "metadata": {},
     "output_type": "execute_result"
    }
   ],
   "source": [
    "missing_values(df)"
   ]
  },
  {
   "cell_type": "code",
   "execution_count": 86,
   "metadata": {
    "id": "ygGo8IZLzF4y"
   },
   "outputs": [],
   "source": [
    "# Drop the rows where admission number is missing"
   ]
  },
  {
   "cell_type": "code",
   "execution_count": 87,
   "metadata": {
    "cellView": "form",
    "id": "bes4qmAtzCh9"
   },
   "outputs": [],
   "source": [
    "#@title\n",
    "# drop along the row using axis = 0\n",
    "# specify the column using subset\n",
    "df.dropna(axis = 0, subset=['admission number'], inplace=True)"
   ]
  },
  {
   "cell_type": "code",
   "execution_count": 88,
   "metadata": {
    "colab": {
     "base_uri": "https://localhost:8080/",
     "height": 81
    },
    "id": "5pTLRPn6zpug",
    "outputId": "a93ce914-d91b-4894-8955-c3b44ea23ae3"
   },
   "outputs": [
    {
     "data": {
      "text/html": [
       "<div>\n",
       "<style scoped>\n",
       "    .dataframe tbody tr th:only-of-type {\n",
       "        vertical-align: middle;\n",
       "    }\n",
       "\n",
       "    .dataframe tbody tr th {\n",
       "        vertical-align: top;\n",
       "    }\n",
       "\n",
       "    .dataframe thead th {\n",
       "        text-align: right;\n",
       "    }\n",
       "</style>\n",
       "<table border=\"1\" class=\"dataframe\">\n",
       "  <thead>\n",
       "    <tr style=\"text-align: right;\">\n",
       "      <th></th>\n",
       "      <th>Missing Values</th>\n",
       "      <th>Percentage(%)</th>\n",
       "    </tr>\n",
       "  </thead>\n",
       "  <tbody>\n",
       "    <tr>\n",
       "      <th>Creative Arts</th>\n",
       "      <td>4</td>\n",
       "      <td>0.032258</td>\n",
       "    </tr>\n",
       "  </tbody>\n",
       "</table>\n",
       "</div>"
      ],
      "text/plain": [
       "               Missing Values  Percentage(%)\n",
       "Creative Arts               4       0.032258"
      ]
     },
     "execution_count": 88,
     "metadata": {},
     "output_type": "execute_result"
    }
   ],
   "source": [
    "missing_values(df)"
   ]
  },
  {
   "cell_type": "markdown",
   "metadata": {
    "id": "IuCVKwqtz2Wr"
   },
   "source": [
    "Columns creative arts and music have data stored in percentages. This should be numeric, however the percentage sign is restricting the data type to object."
   ]
  },
  {
   "cell_type": "markdown",
   "metadata": {
    "id": "hwtECi616MzD"
   },
   "source": [
    "### Fix Structural Issues"
   ]
  },
  {
   "cell_type": "code",
   "execution_count": 89,
   "metadata": {
    "colab": {
     "base_uri": "https://localhost:8080/",
     "height": 206
    },
    "id": "yl1yVN0K6MzD",
    "outputId": "2186df80-d789-4b6d-c494-f5d0fccb5cbc"
   },
   "outputs": [
    {
     "data": {
      "text/html": [
       "<div>\n",
       "<style scoped>\n",
       "    .dataframe tbody tr th:only-of-type {\n",
       "        vertical-align: middle;\n",
       "    }\n",
       "\n",
       "    .dataframe tbody tr th {\n",
       "        vertical-align: top;\n",
       "    }\n",
       "\n",
       "    .dataframe thead th {\n",
       "        text-align: right;\n",
       "    }\n",
       "</style>\n",
       "<table border=\"1\" class=\"dataframe\">\n",
       "  <thead>\n",
       "    <tr style=\"text-align: right;\">\n",
       "      <th></th>\n",
       "      <th>names</th>\n",
       "      <th>admission number</th>\n",
       "      <th>balance</th>\n",
       "      <th>english</th>\n",
       "      <th>kiswahili</th>\n",
       "      <th>mathematics</th>\n",
       "      <th>science</th>\n",
       "      <th>sst/cre</th>\n",
       "      <th>Creative Arts</th>\n",
       "      <th>music</th>\n",
       "    </tr>\n",
       "  </thead>\n",
       "  <tbody>\n",
       "    <tr>\n",
       "      <th>0</th>\n",
       "      <td>JERIEL NDEDA, OBURA</td>\n",
       "      <td>13259.0</td>\n",
       "      <td>0</td>\n",
       "      <td>81.0</td>\n",
       "      <td>39.0</td>\n",
       "      <td>50.0</td>\n",
       "      <td>30.0</td>\n",
       "      <td>59.0</td>\n",
       "      <td>99</td>\n",
       "      <td>80</td>\n",
       "    </tr>\n",
       "    <tr>\n",
       "      <th>1</th>\n",
       "      <td>MUKUHA TIMOTHY, KAMAU</td>\n",
       "      <td>13243.0</td>\n",
       "      <td>0</td>\n",
       "      <td>85.0</td>\n",
       "      <td>74.0</td>\n",
       "      <td>68.0</td>\n",
       "      <td>49.0</td>\n",
       "      <td>78.0</td>\n",
       "      <td>38</td>\n",
       "      <td>86</td>\n",
       "    </tr>\n",
       "    <tr>\n",
       "      <th>2</th>\n",
       "      <td>JOB, NGARA</td>\n",
       "      <td>13307.0</td>\n",
       "      <td>0</td>\n",
       "      <td>54.0</td>\n",
       "      <td>49.0</td>\n",
       "      <td>53.0</td>\n",
       "      <td>59.0</td>\n",
       "      <td>72.0</td>\n",
       "      <td>86</td>\n",
       "      <td>62</td>\n",
       "    </tr>\n",
       "    <tr>\n",
       "      <th>3</th>\n",
       "      <td>CHEGE DAVID, KAMAU</td>\n",
       "      <td>13258.0</td>\n",
       "      <td>0</td>\n",
       "      <td>71.0</td>\n",
       "      <td>97.0</td>\n",
       "      <td>92.0</td>\n",
       "      <td>41.0</td>\n",
       "      <td>81.0</td>\n",
       "      <td>77</td>\n",
       "      <td>80</td>\n",
       "    </tr>\n",
       "    <tr>\n",
       "      <th>4</th>\n",
       "      <td>RAMADHAN MUSA, TEPO</td>\n",
       "      <td>13363.0</td>\n",
       "      <td>0</td>\n",
       "      <td>40.0</td>\n",
       "      <td>84.0</td>\n",
       "      <td>74.0</td>\n",
       "      <td>82.0</td>\n",
       "      <td>89.0</td>\n",
       "      <td>64</td>\n",
       "      <td>46</td>\n",
       "    </tr>\n",
       "  </tbody>\n",
       "</table>\n",
       "</div>"
      ],
      "text/plain": [
       "                   names  admission number balance  english  kiswahili  \\\n",
       "0    JERIEL NDEDA, OBURA           13259.0       0     81.0       39.0   \n",
       "1  MUKUHA TIMOTHY, KAMAU           13243.0       0     85.0       74.0   \n",
       "2             JOB, NGARA           13307.0       0     54.0       49.0   \n",
       "3     CHEGE DAVID, KAMAU           13258.0       0     71.0       97.0   \n",
       "4    RAMADHAN MUSA, TEPO           13363.0       0     40.0       84.0   \n",
       "\n",
       "   mathematics  science  sst/cre Creative Arts music  \n",
       "0         50.0     30.0     59.0            99    80  \n",
       "1         68.0     49.0     78.0            38    86  \n",
       "2         53.0     59.0     72.0            86    62  \n",
       "3         92.0     41.0     81.0            77    80  \n",
       "4         74.0     82.0     89.0            64    46  "
      ]
     },
     "execution_count": 89,
     "metadata": {},
     "output_type": "execute_result"
    }
   ],
   "source": [
    "def remove_character(data, cols, characters):\n",
    "    \"\"\"simple function to remove characters\"\"\"\n",
    "    # loop through the columns\n",
    "    for col in cols:\n",
    "        data[col] = data[col].str.strip(characters)\n",
    "\n",
    "    return data.head()\n",
    "\n",
    "remove_character(df, ['Creative Arts', 'music'], '%')"
   ]
  },
  {
   "cell_type": "markdown",
   "metadata": {
    "id": "aWoCr7WI6MzD"
   },
   "source": [
    "Even after removing the ```%``` sign, we still have to \"explain\" to the computer that this are actually numbers and not characters. \n"
   ]
  },
  {
   "cell_type": "code",
   "execution_count": 90,
   "metadata": {
    "colab": {
     "base_uri": "https://localhost:8080/",
     "height": 206
    },
    "id": "VPXTxrZg6MzE",
    "outputId": "adc9b90b-9868-41af-e315-e3a4beaf2608"
   },
   "outputs": [
    {
     "data": {
      "text/html": [
       "<div>\n",
       "<style scoped>\n",
       "    .dataframe tbody tr th:only-of-type {\n",
       "        vertical-align: middle;\n",
       "    }\n",
       "\n",
       "    .dataframe tbody tr th {\n",
       "        vertical-align: top;\n",
       "    }\n",
       "\n",
       "    .dataframe thead th {\n",
       "        text-align: right;\n",
       "    }\n",
       "</style>\n",
       "<table border=\"1\" class=\"dataframe\">\n",
       "  <thead>\n",
       "    <tr style=\"text-align: right;\">\n",
       "      <th></th>\n",
       "      <th>names</th>\n",
       "      <th>admission number</th>\n",
       "      <th>balance</th>\n",
       "      <th>english</th>\n",
       "      <th>kiswahili</th>\n",
       "      <th>mathematics</th>\n",
       "      <th>science</th>\n",
       "      <th>sst/cre</th>\n",
       "      <th>Creative Arts</th>\n",
       "      <th>music</th>\n",
       "    </tr>\n",
       "  </thead>\n",
       "  <tbody>\n",
       "    <tr>\n",
       "      <th>0</th>\n",
       "      <td>JERIEL NDEDA, OBURA</td>\n",
       "      <td>13259.0</td>\n",
       "      <td>0</td>\n",
       "      <td>81.0</td>\n",
       "      <td>39.0</td>\n",
       "      <td>50.0</td>\n",
       "      <td>30.0</td>\n",
       "      <td>59.0</td>\n",
       "      <td>99</td>\n",
       "      <td>80</td>\n",
       "    </tr>\n",
       "    <tr>\n",
       "      <th>1</th>\n",
       "      <td>MUKUHA TIMOTHY, KAMAU</td>\n",
       "      <td>13243.0</td>\n",
       "      <td>0</td>\n",
       "      <td>85.0</td>\n",
       "      <td>74.0</td>\n",
       "      <td>68.0</td>\n",
       "      <td>49.0</td>\n",
       "      <td>78.0</td>\n",
       "      <td>38</td>\n",
       "      <td>86</td>\n",
       "    </tr>\n",
       "    <tr>\n",
       "      <th>2</th>\n",
       "      <td>JOB, NGARA</td>\n",
       "      <td>13307.0</td>\n",
       "      <td>0</td>\n",
       "      <td>54.0</td>\n",
       "      <td>49.0</td>\n",
       "      <td>53.0</td>\n",
       "      <td>59.0</td>\n",
       "      <td>72.0</td>\n",
       "      <td>86</td>\n",
       "      <td>62</td>\n",
       "    </tr>\n",
       "    <tr>\n",
       "      <th>3</th>\n",
       "      <td>CHEGE DAVID, KAMAU</td>\n",
       "      <td>13258.0</td>\n",
       "      <td>0</td>\n",
       "      <td>71.0</td>\n",
       "      <td>97.0</td>\n",
       "      <td>92.0</td>\n",
       "      <td>41.0</td>\n",
       "      <td>81.0</td>\n",
       "      <td>77</td>\n",
       "      <td>80</td>\n",
       "    </tr>\n",
       "    <tr>\n",
       "      <th>4</th>\n",
       "      <td>RAMADHAN MUSA, TEPO</td>\n",
       "      <td>13363.0</td>\n",
       "      <td>0</td>\n",
       "      <td>40.0</td>\n",
       "      <td>84.0</td>\n",
       "      <td>74.0</td>\n",
       "      <td>82.0</td>\n",
       "      <td>89.0</td>\n",
       "      <td>64</td>\n",
       "      <td>46</td>\n",
       "    </tr>\n",
       "  </tbody>\n",
       "</table>\n",
       "</div>"
      ],
      "text/plain": [
       "                   names  admission number balance  english  kiswahili  \\\n",
       "0    JERIEL NDEDA, OBURA           13259.0       0     81.0       39.0   \n",
       "1  MUKUHA TIMOTHY, KAMAU           13243.0       0     85.0       74.0   \n",
       "2             JOB, NGARA           13307.0       0     54.0       49.0   \n",
       "3     CHEGE DAVID, KAMAU           13258.0       0     71.0       97.0   \n",
       "4    RAMADHAN MUSA, TEPO           13363.0       0     40.0       84.0   \n",
       "\n",
       "   mathematics  science  sst/cre Creative Arts music  \n",
       "0         50.0     30.0     59.0            99    80  \n",
       "1         68.0     49.0     78.0            38    86  \n",
       "2         53.0     59.0     72.0            86    62  \n",
       "3         92.0     41.0     81.0            77    80  \n",
       "4         74.0     82.0     89.0            64    46  "
      ]
     },
     "execution_count": 90,
     "metadata": {},
     "output_type": "execute_result"
    }
   ],
   "source": [
    "# remove the & sign \n",
    "remove_character(df, ['Creative Arts', 'music'], '&')"
   ]
  },
  {
   "cell_type": "markdown",
   "metadata": {
    "id": "A-X9YZKM6MzF"
   },
   "source": [
    "When dealing with numbers, especially money, we are most likely to add the ```,``` to show thousands, millions etc. In the event we have such data, like in this case the column **balance**, the computer is going to categorize ```14,000``` as a string and not a number."
   ]
  },
  {
   "cell_type": "code",
   "execution_count": 91,
   "metadata": {
    "id": "BBO5IU8W6MzG"
   },
   "outputs": [],
   "source": [
    "# remove the , character from balance\n",
    "df['balance'].replace(\",\", \"\", inplace=True, regex=True) # removes ,"
   ]
  },
  {
   "cell_type": "markdown",
   "metadata": {
    "id": "dUbLGzFl6MzG"
   },
   "source": [
    "📝 **Note** - Setting regex as ```True``` since the value we are replacing is a string."
   ]
  },
  {
   "cell_type": "code",
   "execution_count": 92,
   "metadata": {
    "colab": {
     "base_uri": "https://localhost:8080/"
    },
    "id": "n-TlFIMO6MzE",
    "outputId": "9c9edf6d-a564-4fd4-f27f-ab7d7788f6de"
   },
   "outputs": [
    {
     "data": {
      "text/plain": [
       "names                object\n",
       "admission number    float64\n",
       "balance              object\n",
       "english             float64\n",
       "kiswahili           float64\n",
       "mathematics         float64\n",
       "science             float64\n",
       "sst/cre             float64\n",
       "Creative Arts        object\n",
       "music                object\n",
       "dtype: object"
      ]
     },
     "execution_count": 92,
     "metadata": {},
     "output_type": "execute_result"
    }
   ],
   "source": [
    "# data types\n",
    "df.dtypes"
   ]
  },
  {
   "cell_type": "code",
   "execution_count": 93,
   "metadata": {
    "colab": {
     "base_uri": "https://localhost:8080/"
    },
    "id": "DdG27f3x6MzF",
    "outputId": "de7b292f-e297-4b7b-cdf6-ca687f7ce77e"
   },
   "outputs": [
    {
     "data": {
      "text/plain": [
       "names                object\n",
       "admission number    float64\n",
       "balance             float64\n",
       "english             float64\n",
       "kiswahili           float64\n",
       "mathematics         float64\n",
       "science             float64\n",
       "sst/cre             float64\n",
       "Creative Arts       float64\n",
       "music               float64\n",
       "dtype: object"
      ]
     },
     "execution_count": 93,
     "metadata": {},
     "output_type": "execute_result"
    }
   ],
   "source": [
    "# change data types\n",
    "def change_data_type(data, cols, type):\n",
    "    \"\"\"Simple function to change columns data type\"\"\"\n",
    "    for col in cols:\n",
    "        data[col] = data[col].astype(type)\n",
    "\n",
    "    return data.dtypes # confirm the data types\n",
    "\n",
    "\n",
    "change_data_type(df, [\"balance\", \"Creative Arts\", \"music\"], 'float')\n"
   ]
  },
  {
   "cell_type": "code",
   "execution_count": 94,
   "metadata": {
    "colab": {
     "base_uri": "https://localhost:8080/",
     "height": 81
    },
    "id": "xAf7PpWW1-vo",
    "outputId": "bef15f6c-9982-4188-96fe-955914e424fd"
   },
   "outputs": [
    {
     "data": {
      "text/html": [
       "<div>\n",
       "<style scoped>\n",
       "    .dataframe tbody tr th:only-of-type {\n",
       "        vertical-align: middle;\n",
       "    }\n",
       "\n",
       "    .dataframe tbody tr th {\n",
       "        vertical-align: top;\n",
       "    }\n",
       "\n",
       "    .dataframe thead th {\n",
       "        text-align: right;\n",
       "    }\n",
       "</style>\n",
       "<table border=\"1\" class=\"dataframe\">\n",
       "  <thead>\n",
       "    <tr style=\"text-align: right;\">\n",
       "      <th></th>\n",
       "      <th>Missing Values</th>\n",
       "      <th>Percentage(%)</th>\n",
       "    </tr>\n",
       "  </thead>\n",
       "  <tbody>\n",
       "    <tr>\n",
       "      <th>Creative Arts</th>\n",
       "      <td>4</td>\n",
       "      <td>0.032258</td>\n",
       "    </tr>\n",
       "  </tbody>\n",
       "</table>\n",
       "</div>"
      ],
      "text/plain": [
       "               Missing Values  Percentage(%)\n",
       "Creative Arts               4       0.032258"
      ]
     },
     "execution_count": 94,
     "metadata": {},
     "output_type": "execute_result"
    }
   ],
   "source": [
    "missing_values(df)"
   ]
  },
  {
   "cell_type": "code",
   "execution_count": 95,
   "metadata": {
    "colab": {
     "base_uri": "https://localhost:8080/",
     "height": 49
    },
    "id": "jIddyaeo2Bmq",
    "outputId": "ece3b26f-6d77-406e-9657-230944d6db27"
   },
   "outputs": [
    {
     "data": {
      "text/html": [
       "<div>\n",
       "<style scoped>\n",
       "    .dataframe tbody tr th:only-of-type {\n",
       "        vertical-align: middle;\n",
       "    }\n",
       "\n",
       "    .dataframe tbody tr th {\n",
       "        vertical-align: top;\n",
       "    }\n",
       "\n",
       "    .dataframe thead th {\n",
       "        text-align: right;\n",
       "    }\n",
       "</style>\n",
       "<table border=\"1\" class=\"dataframe\">\n",
       "  <thead>\n",
       "    <tr style=\"text-align: right;\">\n",
       "      <th></th>\n",
       "      <th>Missing Values</th>\n",
       "      <th>Percentage(%)</th>\n",
       "    </tr>\n",
       "  </thead>\n",
       "  <tbody>\n",
       "  </tbody>\n",
       "</table>\n",
       "</div>"
      ],
      "text/plain": [
       "Empty DataFrame\n",
       "Columns: [Missing Values, Percentage(%)]\n",
       "Index: []"
      ]
     },
     "execution_count": 95,
     "metadata": {},
     "output_type": "execute_result"
    }
   ],
   "source": [
    "# specify the column using subset\n",
    "df.dropna(axis = 0, subset=['Creative Arts'], inplace=True)\n",
    "missing_values(df)"
   ]
  },
  {
   "cell_type": "markdown",
   "metadata": {
    "id": "jXFIoBHq6My9"
   },
   "source": [
    "### Removal of Duplicate and Unwanted Observations\n",
    "\n",
    "* **Duplicated Entries** - Complete carbon copy of rows or column values. \n",
    "* **Unwanted observations** - Irrelevant data records that don’t actually fit the specific problem you are trying to analyze or solve"
   ]
  },
  {
   "cell_type": "code",
   "execution_count": 96,
   "metadata": {
    "colab": {
     "base_uri": "https://localhost:8080/",
     "height": 300
    },
    "id": "6bFj5Nsa2qvk",
    "outputId": "55e4fa38-56e4-4bdd-98a6-9f7b134e88da"
   },
   "outputs": [
    {
     "data": {
      "text/html": [
       "<div>\n",
       "<style scoped>\n",
       "    .dataframe tbody tr th:only-of-type {\n",
       "        vertical-align: middle;\n",
       "    }\n",
       "\n",
       "    .dataframe tbody tr th {\n",
       "        vertical-align: top;\n",
       "    }\n",
       "\n",
       "    .dataframe thead th {\n",
       "        text-align: right;\n",
       "    }\n",
       "</style>\n",
       "<table border=\"1\" class=\"dataframe\">\n",
       "  <thead>\n",
       "    <tr style=\"text-align: right;\">\n",
       "      <th></th>\n",
       "      <th>names</th>\n",
       "      <th>admission number</th>\n",
       "      <th>balance</th>\n",
       "      <th>english</th>\n",
       "      <th>kiswahili</th>\n",
       "      <th>mathematics</th>\n",
       "      <th>science</th>\n",
       "      <th>sst/cre</th>\n",
       "      <th>Creative Arts</th>\n",
       "      <th>music</th>\n",
       "    </tr>\n",
       "  </thead>\n",
       "  <tbody>\n",
       "    <tr>\n",
       "      <th>62</th>\n",
       "      <td>MSHINDI DANIEL, OUMA</td>\n",
       "      <td>13367.0</td>\n",
       "      <td>24463.0</td>\n",
       "      <td>78.0</td>\n",
       "      <td>29.0</td>\n",
       "      <td>50.0</td>\n",
       "      <td>62.0</td>\n",
       "      <td>50.0</td>\n",
       "      <td>86.0</td>\n",
       "      <td>53.0</td>\n",
       "    </tr>\n",
       "    <tr>\n",
       "      <th>88</th>\n",
       "      <td>MUENDO CICILY, MUTHEU</td>\n",
       "      <td>13283.0</td>\n",
       "      <td>0.0</td>\n",
       "      <td>43.0</td>\n",
       "      <td>60.0</td>\n",
       "      <td>48.0</td>\n",
       "      <td>94.0</td>\n",
       "      <td>97.0</td>\n",
       "      <td>69.0</td>\n",
       "      <td>45.0</td>\n",
       "    </tr>\n",
       "    <tr>\n",
       "      <th>100</th>\n",
       "      <td>JERIEL NDEDA, OBURA</td>\n",
       "      <td>13259.0</td>\n",
       "      <td>0.0</td>\n",
       "      <td>81.0</td>\n",
       "      <td>39.0</td>\n",
       "      <td>50.0</td>\n",
       "      <td>30.0</td>\n",
       "      <td>59.0</td>\n",
       "      <td>99.0</td>\n",
       "      <td>80.0</td>\n",
       "    </tr>\n",
       "    <tr>\n",
       "      <th>101</th>\n",
       "      <td>MUKUHA TIMOTHY, KAMAU</td>\n",
       "      <td>13243.0</td>\n",
       "      <td>0.0</td>\n",
       "      <td>85.0</td>\n",
       "      <td>74.0</td>\n",
       "      <td>68.0</td>\n",
       "      <td>49.0</td>\n",
       "      <td>78.0</td>\n",
       "      <td>38.0</td>\n",
       "      <td>86.0</td>\n",
       "    </tr>\n",
       "    <tr>\n",
       "      <th>102</th>\n",
       "      <td>JOB, NGARA</td>\n",
       "      <td>13307.0</td>\n",
       "      <td>0.0</td>\n",
       "      <td>54.0</td>\n",
       "      <td>49.0</td>\n",
       "      <td>53.0</td>\n",
       "      <td>59.0</td>\n",
       "      <td>72.0</td>\n",
       "      <td>86.0</td>\n",
       "      <td>62.0</td>\n",
       "    </tr>\n",
       "    <tr>\n",
       "      <th>103</th>\n",
       "      <td>CHEGE DAVID, KAMAU</td>\n",
       "      <td>13258.0</td>\n",
       "      <td>0.0</td>\n",
       "      <td>71.0</td>\n",
       "      <td>97.0</td>\n",
       "      <td>92.0</td>\n",
       "      <td>41.0</td>\n",
       "      <td>81.0</td>\n",
       "      <td>77.0</td>\n",
       "      <td>80.0</td>\n",
       "    </tr>\n",
       "    <tr>\n",
       "      <th>104</th>\n",
       "      <td>RAMADHAN MUSA, TEPO</td>\n",
       "      <td>13363.0</td>\n",
       "      <td>0.0</td>\n",
       "      <td>40.0</td>\n",
       "      <td>84.0</td>\n",
       "      <td>74.0</td>\n",
       "      <td>82.0</td>\n",
       "      <td>89.0</td>\n",
       "      <td>64.0</td>\n",
       "      <td>46.0</td>\n",
       "    </tr>\n",
       "    <tr>\n",
       "      <th>105</th>\n",
       "      <td>MUENDO CICILY, MUTHEU</td>\n",
       "      <td>13283.0</td>\n",
       "      <td>0.0</td>\n",
       "      <td>43.0</td>\n",
       "      <td>60.0</td>\n",
       "      <td>48.0</td>\n",
       "      <td>94.0</td>\n",
       "      <td>97.0</td>\n",
       "      <td>69.0</td>\n",
       "      <td>45.0</td>\n",
       "    </tr>\n",
       "  </tbody>\n",
       "</table>\n",
       "</div>"
      ],
      "text/plain": [
       "                     names  admission number  balance  english  kiswahili  \\\n",
       "62    MSHINDI DANIEL, OUMA           13367.0  24463.0     78.0       29.0   \n",
       "88   MUENDO CICILY, MUTHEU           13283.0      0.0     43.0       60.0   \n",
       "100    JERIEL NDEDA, OBURA           13259.0      0.0     81.0       39.0   \n",
       "101  MUKUHA TIMOTHY, KAMAU           13243.0      0.0     85.0       74.0   \n",
       "102             JOB, NGARA           13307.0      0.0     54.0       49.0   \n",
       "103     CHEGE DAVID, KAMAU           13258.0      0.0     71.0       97.0   \n",
       "104    RAMADHAN MUSA, TEPO           13363.0      0.0     40.0       84.0   \n",
       "105  MUENDO CICILY, MUTHEU           13283.0      0.0     43.0       60.0   \n",
       "\n",
       "     mathematics  science  sst/cre  Creative Arts  music  \n",
       "62          50.0     62.0     50.0           86.0   53.0  \n",
       "88          48.0     94.0     97.0           69.0   45.0  \n",
       "100         50.0     30.0     59.0           99.0   80.0  \n",
       "101         68.0     49.0     78.0           38.0   86.0  \n",
       "102         53.0     59.0     72.0           86.0   62.0  \n",
       "103         92.0     41.0     81.0           77.0   80.0  \n",
       "104         74.0     82.0     89.0           64.0   46.0  \n",
       "105         48.0     94.0     97.0           69.0   45.0  "
      ]
     },
     "execution_count": 96,
     "metadata": {},
     "output_type": "execute_result"
    }
   ],
   "source": [
    "# Identify duplicate data\n",
    "duplicate_rows = df[df.duplicated()]\n",
    "duplicate_rows"
   ]
  },
  {
   "cell_type": "code",
   "execution_count": 97,
   "metadata": {
    "colab": {
     "base_uri": "https://localhost:8080/"
    },
    "id": "6hH7TWjzEphn",
    "outputId": "8b6b03d8-bede-46da-8307-3cdb68a1474d"
   },
   "outputs": [
    {
     "data": {
      "text/plain": [
       "8"
      ]
     },
     "execution_count": 97,
     "metadata": {},
     "output_type": "execute_result"
    }
   ],
   "source": [
    "# Usefule addition:\n",
    "df.duplicated().sum() #counts duplicated data"
   ]
  },
  {
   "cell_type": "code",
   "execution_count": 98,
   "metadata": {
    "colab": {
     "base_uri": "https://localhost:8080/"
    },
    "id": "ToBhGnFOFAvf",
    "outputId": "71083231-22cb-471e-e199-da779e4bd763"
   },
   "outputs": [
    {
     "data": {
      "text/plain": [
       "8"
      ]
     },
     "execution_count": 98,
     "metadata": {},
     "output_type": "execute_result"
    }
   ],
   "source": [
    "# Also, if you want to be specific to a row:\n",
    "df.duplicated(['names', 'admission number']).sum()"
   ]
  },
  {
   "cell_type": "code",
   "execution_count": 99,
   "metadata": {
    "colab": {
     "base_uri": "https://localhost:8080/"
    },
    "id": "N2Q2BOozGTWc",
    "outputId": "aaa32ca8-9015-4f71-8f85-feb6d1465e25"
   },
   "outputs": [
    {
     "name": "stdout",
     "output_type": "stream",
     "text": [
      "32\n",
      "0.26666666666666666\n"
     ]
    }
   ],
   "source": [
    "print(df.duplicated(['admission number']).sum())\n",
    "print(df.duplicated(['admission number']).sum()/df.shape[0])"
   ]
  },
  {
   "cell_type": "markdown",
   "metadata": {
    "id": "IHnaBbOIFwO_"
   },
   "source": [
    "We handle duplicates in two ways:\n",
    "\n",
    "1. Removing duplicates\n",
    "2. Keeping them\n",
    "\n",
    "This is dependent on the amount and type of data."
   ]
  },
  {
   "cell_type": "markdown",
   "metadata": {
    "id": "9Xiceh3xGoed"
   },
   "source": [
    "From above, we can clearly point out that 24 students have the same admission number, which practically is not possible as each student is required to have a unique admission number. What do you think you should do?"
   ]
  },
  {
   "cell_type": "code",
   "execution_count": 100,
   "metadata": {
    "colab": {
     "base_uri": "https://localhost:8080/"
    },
    "id": "vt2mPkvg6My-",
    "outputId": "40dbcf41-7d81-41c8-c5cb-822e59a3a5fb"
   },
   "outputs": [
    {
     "data": {
      "text/plain": [
       "0"
      ]
     },
     "execution_count": 100,
     "metadata": {},
     "output_type": "execute_result"
    }
   ],
   "source": [
    "# handling the duplicates \n",
    "# remove duplicated rows\n",
    "df.drop_duplicates(subset=None, keep=\"first\", inplace=True)\n",
    "df.duplicated().sum() "
   ]
  },
  {
   "cell_type": "markdown",
   "metadata": {
    "id": "q_zNV0PW6MzH"
   },
   "source": [
    "### Outliers\n",
    "\n",
    "![outliers](https://www.researchgate.net/publication/10633674/figure/fig5/AS:267602974998545@1440812929396/A-normal-distribution-with-outliers-showing-the-relative-positions-of-the-mean-median_Q640.jpg)\n",
    "\n",
    "Outliers are extreme data points that vary immensely from the other points. They are the hardest to detect using ones eye among other data inaccuracies within the data in the sense that they are often of the same type as the other observations. Therefore, it is important to understand that just because they exist, doesn’t mean they are incorrect and as such, there should be a valid reason to remove these data points.\n",
    "\n",
    "Because of the data that we have we are going to use \"unconventional\" techniques to handle this outliers.\n",
    "\n",
    "```Z-score``` and ```IQR``` are common techniques used for identifying and removing outliers. However, ```boxplot``` are the easiest to utilise when visualizing outliers.\n",
    "\n",
    "Understanding boxplots:\n",
    "![boxplot](https://justinsighting.com/wp-content/uploads/2016/12/boxplot-description.png)\n",
    "\n",
    "📝 _Just because they exist, doesn't mean they are wrong_.\n"
   ]
  },
  {
   "cell_type": "code",
   "execution_count": 101,
   "metadata": {
    "colab": {
     "base_uri": "https://localhost:8080/",
     "height": 282
    },
    "id": "YsCzl-Jg6MzI",
    "outputId": "10160f75-9b15-4d21-adc5-8b4386529e8a"
   },
   "outputs": [
    {
     "data": {
      "text/plain": [
       "<AxesSubplot: >"
      ]
     },
     "execution_count": 101,
     "metadata": {},
     "output_type": "execute_result"
    },
    {
     "data": {
      "image/png": "[encoded data removed]",
      "text/plain": [
       "<Figure size 640x480 with 1 Axes>"
      ]
     },
     "metadata": {},
     "output_type": "display_data"
    }
   ],
   "source": [
    "# we can also use a box plot to identify outliers\n",
    "scores_columns = ['english', 'kiswahili', 'mathematics', 'science', 'sst/cre', 'Creative Arts', 'music']\n",
    "df.boxplot(column=scores_columns)  "
   ]
  },
  {
   "cell_type": "code",
   "execution_count": 102,
   "metadata": {
    "colab": {
     "base_uri": "https://localhost:8080/",
     "height": 282
    },
    "id": "s9serUEsHOS7",
    "outputId": "5764688e-8076-47a6-8837-f29dfd03d0e9"
   },
   "outputs": [
    {
     "data": {
      "text/plain": [
       "<AxesSubplot: >"
      ]
     },
     "execution_count": 102,
     "metadata": {},
     "output_type": "execute_result"
    },
    {
     "data": {
      "image/png": "[encoded data removed]",
      "text/plain": [
       "<Figure size 640x480 with 1 Axes>"
      ]
     },
     "metadata": {},
     "output_type": "display_data"
    }
   ],
   "source": [
    "# More precisely, we can visualize using one column\n",
    "df.boxplot(column='english')  "
   ]
  },
  {
   "cell_type": "code",
   "execution_count": 103,
   "metadata": {
    "colab": {
     "base_uri": "https://localhost:8080/"
    },
    "id": "C7Wn0wuG6MzI",
    "outputId": "a9e20d56-984b-4edc-f890-bca5bd55074f"
   },
   "outputs": [
    {
     "data": {
      "text/plain": [
       "[-78.0, 508.0]"
      ]
     },
     "execution_count": 103,
     "metadata": {},
     "output_type": "execute_result"
    }
   ],
   "source": [
    "# Getting outliers\n",
    "def IQR_outliers(data, column):\n",
    "    \"\"\"Simple function to identify and remove outliers using IQR\"\"\"\n",
    "    # get Q1 and Q2\n",
    "    Q1 = data[column].quantile(0.25)\n",
    "    Q3 = data[column].quantile(0.75)\n",
    "    # calculate IQR\n",
    "    IQR = Q3-Q1\n",
    "    # identify ouliers (returns True if an outlier)\n",
    "    out = ((data[column]<(Q1-1.5*IQR)) | (data[column]>(Q3+1.5*IQR)))\n",
    "\n",
    "    # identify the outlier using index\n",
    "    outliers_list = list(out[out==True].index)\n",
    "    # identify the actual outliers using index\n",
    "    outliers = []\n",
    "    for val in outliers_list:\n",
    "        outliers.append(data[column][val])\n",
    "\n",
    "    \n",
    "    return outliers, Q1, Q3, IQR\n",
    "\n",
    "\n",
    "english_outliers = IQR_outliers(df, \"english\")\n",
    "english_outliers[0]"
   ]
  },
  {
   "cell_type": "code",
   "execution_count": 104,
   "metadata": {
    "id": "To252ZgF6MzJ"
   },
   "outputs": [],
   "source": [
    "# Dealing with outliers using IQR\n",
    "def IQR_remove_outliers(data, column):\n",
    "    \"\"\"Simple function to remove the ouliers\"\"\"\n",
    "    # get values from previous function \n",
    "    identify = IQR_outliers(data, column)\n",
    "    Q1 = identify[1]\n",
    "    Q3 = identify[2]\n",
    "    IQR = identify[3]\n",
    "    # remove the outliers\n",
    "    df = data[~((data[column]<(Q1-1.5*IQR)) | (data[column]>(Q3+1.5*IQR)))]\n",
    "\n",
    "    return df"
   ]
  },
  {
   "cell_type": "code",
   "execution_count": 105,
   "metadata": {
    "id": "fvp7yhS4IJp_"
   },
   "outputs": [],
   "source": [
    "# Removing simultaneously\n",
    "for i in scores_columns:\n",
    "  df = IQR_remove_outliers(df, i)"
   ]
  },
  {
   "cell_type": "code",
   "execution_count": 106,
   "metadata": {
    "colab": {
     "base_uri": "https://localhost:8080/",
     "height": 282
    },
    "id": "C9wco38j6MzJ",
    "outputId": "9ca68b41-db64-453f-964c-b68c9800c7d5"
   },
   "outputs": [],
   "source": [
    "# confirm using a box plot\n",
    "#df.boxplot(column=scores_columns)  "
   ]
  },
  {
   "cell_type": "markdown",
   "metadata": {
    "id": "zxse_NQx6MzP"
   },
   "source": [
    "As much as the above balances are categorised as outliers, its practically possible to have such balances since they are not that extreme.\n",
    "\n",
    "Do you think we should remove them?"
   ]
  },
  {
   "cell_type": "markdown",
   "metadata": {
    "id": "gbInc3656MzP"
   },
   "source": [
    "What happens when the data is normally distributed?\n",
    "\n",
    "In this scenario, we can determine the quartile from mean and median.\n",
    "\n",
    "```Q1 = mean - 0.675 * stdev```\n",
    "```Q3 = mean + 0.675 * stdev```\n",
    "\n",
    "```Upper Limit = Q3 + 1.5 * IQR = mean + 2.7 * stdev```\n",
    "```Lower Limit = Q1 - 1.5 * IQR = mean - 2.7 * stdev```\n",
    "\n",
    "Alternatively, we can use the Z-score, preferably when the data is normally distributed."
   ]
  },
  {
   "cell_type": "markdown",
   "metadata": {
    "id": "FSglRgSz6MzQ"
   },
   "source": [
    "### Final Data"
   ]
  },
  {
   "cell_type": "code",
   "execution_count": 107,
   "metadata": {
    "colab": {
     "base_uri": "https://localhost:8080/",
     "height": 206
    },
    "id": "ILUPeDab6MzQ",
    "outputId": "de6d2182-e2ca-4fe8-e215-61ec9dcd757d"
   },
   "outputs": [
    {
     "data": {
      "text/html": [
       "<div>\n",
       "<style scoped>\n",
       "    .dataframe tbody tr th:only-of-type {\n",
       "        vertical-align: middle;\n",
       "    }\n",
       "\n",
       "    .dataframe tbody tr th {\n",
       "        vertical-align: top;\n",
       "    }\n",
       "\n",
       "    .dataframe thead th {\n",
       "        text-align: right;\n",
       "    }\n",
       "</style>\n",
       "<table border=\"1\" class=\"dataframe\">\n",
       "  <thead>\n",
       "    <tr style=\"text-align: right;\">\n",
       "      <th></th>\n",
       "      <th>names</th>\n",
       "      <th>admission number</th>\n",
       "      <th>balance</th>\n",
       "      <th>english</th>\n",
       "      <th>kiswahili</th>\n",
       "      <th>mathematics</th>\n",
       "      <th>science</th>\n",
       "      <th>sst/cre</th>\n",
       "      <th>Creative Arts</th>\n",
       "      <th>music</th>\n",
       "    </tr>\n",
       "  </thead>\n",
       "  <tbody>\n",
       "    <tr>\n",
       "      <th>0</th>\n",
       "      <td>JERIEL NDEDA, OBURA</td>\n",
       "      <td>13259.0</td>\n",
       "      <td>0.0</td>\n",
       "      <td>81.0</td>\n",
       "      <td>39.0</td>\n",
       "      <td>50.0</td>\n",
       "      <td>30.0</td>\n",
       "      <td>59.0</td>\n",
       "      <td>99.0</td>\n",
       "      <td>80.0</td>\n",
       "    </tr>\n",
       "    <tr>\n",
       "      <th>1</th>\n",
       "      <td>MUKUHA TIMOTHY, KAMAU</td>\n",
       "      <td>13243.0</td>\n",
       "      <td>0.0</td>\n",
       "      <td>85.0</td>\n",
       "      <td>74.0</td>\n",
       "      <td>68.0</td>\n",
       "      <td>49.0</td>\n",
       "      <td>78.0</td>\n",
       "      <td>38.0</td>\n",
       "      <td>86.0</td>\n",
       "    </tr>\n",
       "    <tr>\n",
       "      <th>2</th>\n",
       "      <td>JOB, NGARA</td>\n",
       "      <td>13307.0</td>\n",
       "      <td>0.0</td>\n",
       "      <td>54.0</td>\n",
       "      <td>49.0</td>\n",
       "      <td>53.0</td>\n",
       "      <td>59.0</td>\n",
       "      <td>72.0</td>\n",
       "      <td>86.0</td>\n",
       "      <td>62.0</td>\n",
       "    </tr>\n",
       "    <tr>\n",
       "      <th>3</th>\n",
       "      <td>CHEGE DAVID, KAMAU</td>\n",
       "      <td>13258.0</td>\n",
       "      <td>0.0</td>\n",
       "      <td>71.0</td>\n",
       "      <td>97.0</td>\n",
       "      <td>92.0</td>\n",
       "      <td>41.0</td>\n",
       "      <td>81.0</td>\n",
       "      <td>77.0</td>\n",
       "      <td>80.0</td>\n",
       "    </tr>\n",
       "    <tr>\n",
       "      <th>4</th>\n",
       "      <td>RAMADHAN MUSA, TEPO</td>\n",
       "      <td>13363.0</td>\n",
       "      <td>0.0</td>\n",
       "      <td>40.0</td>\n",
       "      <td>84.0</td>\n",
       "      <td>74.0</td>\n",
       "      <td>82.0</td>\n",
       "      <td>89.0</td>\n",
       "      <td>64.0</td>\n",
       "      <td>46.0</td>\n",
       "    </tr>\n",
       "  </tbody>\n",
       "</table>\n",
       "</div>"
      ],
      "text/plain": [
       "                   names  admission number  balance  english  kiswahili  \\\n",
       "0    JERIEL NDEDA, OBURA           13259.0      0.0     81.0       39.0   \n",
       "1  MUKUHA TIMOTHY, KAMAU           13243.0      0.0     85.0       74.0   \n",
       "2             JOB, NGARA           13307.0      0.0     54.0       49.0   \n",
       "3     CHEGE DAVID, KAMAU           13258.0      0.0     71.0       97.0   \n",
       "4    RAMADHAN MUSA, TEPO           13363.0      0.0     40.0       84.0   \n",
       "\n",
       "   mathematics  science  sst/cre  Creative Arts  music  \n",
       "0         50.0     30.0     59.0           99.0   80.0  \n",
       "1         68.0     49.0     78.0           38.0   86.0  \n",
       "2         53.0     59.0     72.0           86.0   62.0  \n",
       "3         92.0     41.0     81.0           77.0   80.0  \n",
       "4         74.0     82.0     89.0           64.0   46.0  "
      ]
     },
     "execution_count": 107,
     "metadata": {},
     "output_type": "execute_result"
    }
   ],
   "source": [
    "# preview first 5 columns\n",
    "df.head()"
   ]
  },
  {
   "cell_type": "code",
   "execution_count": 108,
   "metadata": {
    "colab": {
     "base_uri": "https://localhost:8080/",
     "height": 206
    },
    "id": "Y32oEJI_6MzQ",
    "outputId": "f355b97b-4d51-4fdc-e395-db0d74fdd784"
   },
   "outputs": [
    {
     "data": {
      "text/html": [
       "<div>\n",
       "<style scoped>\n",
       "    .dataframe tbody tr th:only-of-type {\n",
       "        vertical-align: middle;\n",
       "    }\n",
       "\n",
       "    .dataframe tbody tr th {\n",
       "        vertical-align: top;\n",
       "    }\n",
       "\n",
       "    .dataframe thead th {\n",
       "        text-align: right;\n",
       "    }\n",
       "</style>\n",
       "<table border=\"1\" class=\"dataframe\">\n",
       "  <thead>\n",
       "    <tr style=\"text-align: right;\">\n",
       "      <th></th>\n",
       "      <th>names</th>\n",
       "      <th>admission number</th>\n",
       "      <th>balance</th>\n",
       "      <th>english</th>\n",
       "      <th>kiswahili</th>\n",
       "      <th>mathematics</th>\n",
       "      <th>science</th>\n",
       "      <th>sst/cre</th>\n",
       "      <th>Creative Arts</th>\n",
       "      <th>music</th>\n",
       "    </tr>\n",
       "  </thead>\n",
       "  <tbody>\n",
       "    <tr>\n",
       "      <th>115</th>\n",
       "      <td>Bin Amin, Ng'eno</td>\n",
       "      <td>13159.0</td>\n",
       "      <td>0.0</td>\n",
       "      <td>58.000000</td>\n",
       "      <td>74.764706</td>\n",
       "      <td>72.938462</td>\n",
       "      <td>68.179487</td>\n",
       "      <td>70.833333</td>\n",
       "      <td>51.0</td>\n",
       "      <td>44.0</td>\n",
       "    </tr>\n",
       "    <tr>\n",
       "      <th>116</th>\n",
       "      <td>Catherine Ndung'u, Kate</td>\n",
       "      <td>13187.0</td>\n",
       "      <td>0.0</td>\n",
       "      <td>84.000000</td>\n",
       "      <td>74.764706</td>\n",
       "      <td>68.000000</td>\n",
       "      <td>68.179487</td>\n",
       "      <td>48.000000</td>\n",
       "      <td>91.0</td>\n",
       "      <td>64.0</td>\n",
       "    </tr>\n",
       "    <tr>\n",
       "      <th>117</th>\n",
       "      <td>Daisy Machoka, Daniel</td>\n",
       "      <td>13168.0</td>\n",
       "      <td>18161.0</td>\n",
       "      <td>70.958678</td>\n",
       "      <td>74.764706</td>\n",
       "      <td>72.938462</td>\n",
       "      <td>68.179487</td>\n",
       "      <td>70.833333</td>\n",
       "      <td>78.0</td>\n",
       "      <td>86.0</td>\n",
       "    </tr>\n",
       "    <tr>\n",
       "      <th>118</th>\n",
       "      <td>Daniel Karanja, Wambui</td>\n",
       "      <td>13133.0</td>\n",
       "      <td>33619.0</td>\n",
       "      <td>78.000000</td>\n",
       "      <td>74.764706</td>\n",
       "      <td>78.000000</td>\n",
       "      <td>68.179487</td>\n",
       "      <td>29.000000</td>\n",
       "      <td>80.0</td>\n",
       "      <td>84.0</td>\n",
       "    </tr>\n",
       "    <tr>\n",
       "      <th>144</th>\n",
       "      <td>JOB, KAMAU</td>\n",
       "      <td>1430232.0</td>\n",
       "      <td>43200.0</td>\n",
       "      <td>98.000000</td>\n",
       "      <td>80.000000</td>\n",
       "      <td>86.000000</td>\n",
       "      <td>64.000000</td>\n",
       "      <td>99.000000</td>\n",
       "      <td>49.0</td>\n",
       "      <td>69.0</td>\n",
       "    </tr>\n",
       "  </tbody>\n",
       "</table>\n",
       "</div>"
      ],
      "text/plain": [
       "                       names  admission number  balance    english  kiswahili  \\\n",
       "115         Bin Amin, Ng'eno           13159.0      0.0  58.000000  74.764706   \n",
       "116  Catherine Ndung'u, Kate           13187.0      0.0  84.000000  74.764706   \n",
       "117    Daisy Machoka, Daniel           13168.0  18161.0  70.958678  74.764706   \n",
       "118   Daniel Karanja, Wambui           13133.0  33619.0  78.000000  74.764706   \n",
       "144               JOB, KAMAU         1430232.0  43200.0  98.000000  80.000000   \n",
       "\n",
       "     mathematics    science    sst/cre  Creative Arts  music  \n",
       "115    72.938462  68.179487  70.833333           51.0   44.0  \n",
       "116    68.000000  68.179487  48.000000           91.0   64.0  \n",
       "117    72.938462  68.179487  70.833333           78.0   86.0  \n",
       "118    78.000000  68.179487  29.000000           80.0   84.0  \n",
       "144    86.000000  64.000000  99.000000           49.0   69.0  "
      ]
     },
     "execution_count": 108,
     "metadata": {},
     "output_type": "execute_result"
    }
   ],
   "source": [
    "# preview last 5 columns\n",
    "df.tail()"
   ]
  },
  {
   "cell_type": "markdown",
   "metadata": {
    "id": "lpTxvVidJKzY"
   },
   "source": [
    "## Data analysis in Pandas"
   ]
  },
  {
   "cell_type": "markdown",
   "metadata": {
    "id": "27lBf9A6OzdM"
   },
   "source": [
    "### Univariate analysis"
   ]
  },
  {
   "cell_type": "code",
   "execution_count": 109,
   "metadata": {
    "id": "QhDhAMQUOrvl"
   },
   "outputs": [],
   "source": [
    "# For categorical variables\n",
    "\n",
    "# 1. Get frequency tables and plot value counts: choose appropriate visualizations eg barplots or pie charts\n",
    "# 2. State observations or summarize findings"
   ]
  },
  {
   "cell_type": "code",
   "execution_count": 110,
   "metadata": {
    "colab": {
     "base_uri": "https://localhost:8080/",
     "height": 206
    },
    "id": "vT-6glyeKNbH",
    "outputId": "b5089829-b7b3-4abd-db46-f3b487fb0d43"
   },
   "outputs": [
    {
     "data": {
      "text/html": [
       "<div>\n",
       "<style scoped>\n",
       "    .dataframe tbody tr th:only-of-type {\n",
       "        vertical-align: middle;\n",
       "    }\n",
       "\n",
       "    .dataframe tbody tr th {\n",
       "        vertical-align: top;\n",
       "    }\n",
       "\n",
       "    .dataframe thead th {\n",
       "        text-align: right;\n",
       "    }\n",
       "</style>\n",
       "<table border=\"1\" class=\"dataframe\">\n",
       "  <thead>\n",
       "    <tr style=\"text-align: right;\">\n",
       "      <th></th>\n",
       "      <th>sepal_length</th>\n",
       "      <th>sepal_width</th>\n",
       "      <th>petal_length</th>\n",
       "      <th>petal_width</th>\n",
       "      <th>species</th>\n",
       "    </tr>\n",
       "  </thead>\n",
       "  <tbody>\n",
       "    <tr>\n",
       "      <th>0</th>\n",
       "      <td>5.1</td>\n",
       "      <td>3.5</td>\n",
       "      <td>1.4</td>\n",
       "      <td>0.2</td>\n",
       "      <td>Iris-setosa</td>\n",
       "    </tr>\n",
       "    <tr>\n",
       "      <th>1</th>\n",
       "      <td>4.9</td>\n",
       "      <td>3.0</td>\n",
       "      <td>1.4</td>\n",
       "      <td>0.2</td>\n",
       "      <td>Iris-setosa</td>\n",
       "    </tr>\n",
       "    <tr>\n",
       "      <th>2</th>\n",
       "      <td>4.7</td>\n",
       "      <td>3.2</td>\n",
       "      <td>1.3</td>\n",
       "      <td>0.2</td>\n",
       "      <td>Iris-setosa</td>\n",
       "    </tr>\n",
       "    <tr>\n",
       "      <th>3</th>\n",
       "      <td>4.6</td>\n",
       "      <td>3.1</td>\n",
       "      <td>1.5</td>\n",
       "      <td>0.2</td>\n",
       "      <td>Iris-setosa</td>\n",
       "    </tr>\n",
       "    <tr>\n",
       "      <th>4</th>\n",
       "      <td>5.0</td>\n",
       "      <td>3.6</td>\n",
       "      <td>1.4</td>\n",
       "      <td>0.2</td>\n",
       "      <td>Iris-setosa</td>\n",
       "    </tr>\n",
       "  </tbody>\n",
       "</table>\n",
       "</div>"
      ],
      "text/plain": [
       "   sepal_length  sepal_width  petal_length  petal_width      species\n",
       "0           5.1          3.5           1.4          0.2  Iris-setosa\n",
       "1           4.9          3.0           1.4          0.2  Iris-setosa\n",
       "2           4.7          3.2           1.3          0.2  Iris-setosa\n",
       "3           4.6          3.1           1.5          0.2  Iris-setosa\n",
       "4           5.0          3.6           1.4          0.2  Iris-setosa"
      ]
     },
     "execution_count": 110,
     "metadata": {},
     "output_type": "execute_result"
    }
   ],
   "source": [
    "# Example \n",
    "# Creating our dataframe\n",
    "iris_df = pd.read_csv('http://bit.ly/IrisDataset')\n",
    "iris_df.head()"
   ]
  },
  {
   "cell_type": "code",
   "execution_count": 111,
   "metadata": {
    "colab": {
     "base_uri": "https://localhost:8080/"
    },
    "id": "VbQam28nK-gX",
    "outputId": "53982bfe-ecc0-422d-a8e4-7c35d0ab60ec"
   },
   "outputs": [
    {
     "data": {
      "text/plain": [
       "Iris-setosa        50\n",
       "Iris-versicolor    50\n",
       "Iris-virginica     50\n",
       "Name: species, dtype: int64"
      ]
     },
     "execution_count": 111,
     "metadata": {},
     "output_type": "execute_result"
    }
   ],
   "source": [
    "iris_df.species.value_counts() # Frequency table"
   ]
  },
  {
   "cell_type": "code",
   "execution_count": 112,
   "metadata": {
    "colab": {
     "base_uri": "https://localhost:8080/",
     "height": 340
    },
    "id": "EM55VGZWLMWH",
    "outputId": "75845554-f2db-4364-d25f-ece939401239"
   },
   "outputs": [
    {
     "data": {
      "image/png": "[encoded data removed]",
      "text/plain": [
       "<Figure size 640x480 with 1 Axes>"
      ]
     },
     "metadata": {},
     "output_type": "display_data"
    }
   ],
   "source": [
    "iris_df.species.value_counts().plot.bar();"
   ]
  },
  {
   "cell_type": "code",
   "execution_count": 113,
   "metadata": {
    "id": "sF_9ODMbQwVT"
   },
   "outputs": [],
   "source": [
    "# For numerical variables\n",
    "\n",
    "# 1. Calculate measures of central tendency, dispersion and other statistics such as skewness and kurtosis.\n",
    "# 2. Interpret the results/numbers you get.\n",
    "# 3. Plot distribution\n",
    "\n",
    "# Perform normality tests if you want to work on modelling(Helps inform the choice of algorithm)"
   ]
  },
  {
   "cell_type": "code",
   "execution_count": 114,
   "metadata": {
    "colab": {
     "base_uri": "https://localhost:8080/"
    },
    "id": "Wt3QkerMLyV0",
    "outputId": "2160305f-6dd4-498d-8ec5-6cb618e66ba3"
   },
   "outputs": [
    {
     "name": "stdout",
     "output_type": "stream",
     "text": [
      "Mean: 3.758666666666666\n",
      "Median: 4.35\n"
     ]
    }
   ],
   "source": [
    "# Mean\n",
    "print('Mean:', iris_df[\"petal_length\"].mean())\n",
    "\n",
    "# Median\n",
    "print('Median:', iris_df[\"petal_length\"].median())"
   ]
  },
  {
   "cell_type": "code",
   "execution_count": 115,
   "metadata": {
    "colab": {
     "base_uri": "https://localhost:8080/",
     "height": 282
    },
    "id": "_NtzBI8PMmnL",
    "outputId": "8832cf4e-0116-4dbc-9d12-5afeb18fb52c"
   },
   "outputs": [
    {
     "data": {
      "image/png": "[encoded data removed]",
      "text/plain": [
       "<Figure size 640x480 with 1 Axes>"
      ]
     },
     "metadata": {},
     "output_type": "display_data"
    }
   ],
   "source": [
    "# Visualizing\n",
    "iris_df[\"petal_length\"].hist();"
   ]
  },
  {
   "cell_type": "markdown",
   "metadata": {
    "id": "VgFBcQlAM2Tc"
   },
   "source": [
    "![#f03c15](https://placehold.co/15x15/f03c15/f03c15.png) `Do univariate analysis on the students data. How did the students perform in different subjects?`"
   ]
  },
  {
   "cell_type": "code",
   "execution_count": 116,
   "metadata": {},
   "outputs": [
    {
     "data": {
      "image/png": "[encoded data removed]",
      "text/plain": [
       "<Figure size 640x480 with 1 Axes>"
      ]
     },
     "metadata": {},
     "output_type": "display_data"
    }
   ],
   "source": [
    "subjects=df.iloc[:,3:10]\n",
    "subjects.mean().plot(kind='bar');"
   ]
  },
  {
   "cell_type": "markdown",
   "metadata": {
    "id": "yyUXRNDXS2V8"
   },
   "source": [
    "### Bivariate analysis"
   ]
  },
  {
   "cell_type": "code",
   "execution_count": 117,
   "metadata": {
    "id": "UFuSHcpaQ5gf"
   },
   "outputs": [],
   "source": [
    "# When both variables are categorical\n",
    "\n",
    "# 1. Plot grouped-by value counts.\n",
    "# 2. State observations or summarize findings\n",
    "import matplotlib.pyplot as plt\n",
    "%matplotlib inline"
   ]
  },
  {
   "cell_type": "code",
   "execution_count": 118,
   "metadata": {
    "colab": {
     "base_uri": "https://localhost:8080/",
     "height": 341
    },
    "id": "NIVVcVfFRSSs",
    "outputId": "3544d6e0-04c5-4c3b-9a52-36ed5a656937"
   },
   "outputs": [
    {
     "data": {
      "image/png": "[encoded data removed]",
      "text/plain": [
       "<Figure size 640x480 with 1 Axes>"
      ]
     },
     "metadata": {},
     "output_type": "display_data"
    }
   ],
   "source": [
    "# Example:\n",
    "titanic = pd.read_csv(\"titanic.csv\")\n",
    "\n",
    "# Changing to categorical variable\n",
    "cat = ['Pclass', 'Sex', 'Embarked','Survived']\n",
    "for i in cat:\n",
    "    titanic[i] = titanic[i].astype('category')\n",
    "\n",
    "# Group the data by gender and survival rate\n",
    "gender_survival = titanic.groupby('Survived')['Sex'].value_counts()\n",
    "\n",
    "# Create a bar chart of the survival rate by gender\n",
    "gender_survival.plot.bar();"
   ]
  },
  {
   "cell_type": "code",
   "execution_count": 119,
   "metadata": {
    "id": "HEDPwrhEUfSP"
   },
   "outputs": [],
   "source": [
    "# When variables are categorical and numerical\n",
    "\n",
    "# 1. Plot box-plots or bar plots of each category.\n",
    "# 2. State observations or summarize findings"
   ]
  },
  {
   "cell_type": "code",
   "execution_count": 120,
   "metadata": {
    "colab": {
     "base_uri": "https://localhost:8080/",
     "height": 354
    },
    "id": "78zXF46bVEBU",
    "outputId": "028a0977-d431-4c1b-d7bd-75d8fe2bcf05"
   },
   "outputs": [
    {
     "data": {
      "image/png": "[encoded data removed]",
      "text/plain": [
       "<Figure size 640x480 with 1 Axes>"
      ]
     },
     "metadata": {},
     "output_type": "display_data"
    }
   ],
   "source": [
    "# Group the data by class and calculate the survival rate\n",
    "petals = iris_df.groupby('species')['petal_length'].mean()\n",
    "\n",
    "petals.plot.bar();"
   ]
  },
  {
   "cell_type": "code",
   "execution_count": 121,
   "metadata": {
    "id": "qph--ijGUzFS"
   },
   "outputs": [],
   "source": [
    "# When both variables are numerical\n",
    "\n",
    "# 1. Plot scatterplots and calculate correlation.\n",
    "# 2. State observatidata[col].replace(to_replace, value, inplace=True, regex=regex_value)ons or summarize findings"
   ]
  },
  {
   "cell_type": "code",
   "execution_count": 122,
   "metadata": {
    "colab": {
     "base_uri": "https://localhost:8080/",
     "height": 297
    },
    "id": "QxUPXZCAJSF_",
    "outputId": "f294f5e2-8b6f-4017-8450-83c132deb184"
   },
   "outputs": [
    {
     "data": {
      "image/png": "[encoded data removed]",
      "text/plain": [
       "<Figure size 640x480 with 1 Axes>"
      ]
     },
     "metadata": {},
     "output_type": "display_data"
    }
   ],
   "source": [
    "iris_df.plot.scatter(x='sepal_length',y ='petal_length' ); # Plots a scatter plot"
   ]
  },
  {
   "cell_type": "code",
   "execution_count": 123,
   "metadata": {
    "colab": {
     "base_uri": "https://localhost:8080/",
     "height": 175
    },
    "id": "1AKUcLJjcamk",
    "outputId": "afb41241-4509-49eb-9a39-ffcc7cc6c0f7"
   },
   "outputs": [
    {
     "name": "stderr",
     "output_type": "stream",
     "text": [
      "C:\\Users\\Hp\\AppData\\Local\\Temp\\ipykernel_12028\\2029855612.py:1: FutureWarning: The default value of numeric_only in DataFrame.corr is deprecated. In a future version, it will default to False. Select only valid columns or specify the value of numeric_only to silence this warning.\n",
      "  iris_df.corr() # Gets the correlation matrix\n"
     ]
    },
    {
     "data": {
      "text/html": [
       "<div>\n",
       "<style scoped>\n",
       "    .dataframe tbody tr th:only-of-type {\n",
       "        vertical-align: middle;\n",
       "    }\n",
       "\n",
       "    .dataframe tbody tr th {\n",
       "        vertical-align: top;\n",
       "    }\n",
       "\n",
       "    .dataframe thead th {\n",
       "        text-align: right;\n",
       "    }\n",
       "</style>\n",
       "<table border=\"1\" class=\"dataframe\">\n",
       "  <thead>\n",
       "    <tr style=\"text-align: right;\">\n",
       "      <th></th>\n",
       "      <th>sepal_length</th>\n",
       "      <th>sepal_width</th>\n",
       "      <th>petal_length</th>\n",
       "      <th>petal_width</th>\n",
       "    </tr>\n",
       "  </thead>\n",
       "  <tbody>\n",
       "    <tr>\n",
       "      <th>sepal_length</th>\n",
       "      <td>1.000000</td>\n",
       "      <td>-0.109369</td>\n",
       "      <td>0.871754</td>\n",
       "      <td>0.817954</td>\n",
       "    </tr>\n",
       "    <tr>\n",
       "      <th>sepal_width</th>\n",
       "      <td>-0.109369</td>\n",
       "      <td>1.000000</td>\n",
       "      <td>-0.420516</td>\n",
       "      <td>-0.356544</td>\n",
       "    </tr>\n",
       "    <tr>\n",
       "      <th>petal_length</th>\n",
       "      <td>0.871754</td>\n",
       "      <td>-0.420516</td>\n",
       "      <td>1.000000</td>\n",
       "      <td>0.962757</td>\n",
       "    </tr>\n",
       "    <tr>\n",
       "      <th>petal_width</th>\n",
       "      <td>0.817954</td>\n",
       "      <td>-0.356544</td>\n",
       "      <td>0.962757</td>\n",
       "      <td>1.000000</td>\n",
       "    </tr>\n",
       "  </tbody>\n",
       "</table>\n",
       "</div>"
      ],
      "text/plain": [
       "              sepal_length  sepal_width  petal_length  petal_width\n",
       "sepal_length      1.000000    -0.109369      0.871754     0.817954\n",
       "sepal_width      -0.109369     1.000000     -0.420516    -0.356544\n",
       "petal_length      0.871754    -0.420516      1.000000     0.962757\n",
       "petal_width       0.817954    -0.356544      0.962757     1.000000"
      ]
     },
     "execution_count": 123,
     "metadata": {},
     "output_type": "execute_result"
    }
   ],
   "source": [
    "iris_df.corr() # Gets the correlation matrix"
   ]
  },
  {
   "cell_type": "markdown",
   "metadata": {
    "id": "HjGVk1Facm25"
   },
   "source": [
    "![#f03c15](https://placehold.co/15x15/f03c15/f03c15.png) `Do bivariate analysis on the students data. Come up with your own analysis questions.`"
   ]
  },
  {
   "cell_type": "code",
   "execution_count": 124,
   "metadata": {},
   "outputs": [
    {
     "data": {
      "image/png": "[encoded data removed]",
      "text/plain": [
       "<Figure size 1500x1500 with 1 Axes>"
      ]
     },
     "metadata": {},
     "output_type": "display_data"
    }
   ],
   "source": [
    "# finding the correlation between the subject mathematics and the subject english\n",
    "# we found out that bivariate analysis is the relationship between two varaibles hence we did\n",
    "# the a bivariate analysis between the subject english and mathematics to find out its relation\n",
    "bivariate= df.groupby('mathematics')['english'].mean()\n",
    "bivariate.plot.bar(figsize=(15,15));"
   ]
  },
  {
   "cell_type": "code",
   "execution_count": 125,
   "metadata": {},
   "outputs": [
    {
     "data": {
      "image/png": "[encoded data removed]",
      "text/plain": [
       "<Figure size 640x480 with 1 Axes>"
      ]
     },
     "metadata": {},
     "output_type": "display_data"
    }
   ],
   "source": [
    "df.plot.scatter(x='mathematics',y='english');"
   ]
  },
  {
   "cell_type": "code",
   "execution_count": 126,
   "metadata": {},
   "outputs": [
    {
     "name": "stdout",
     "output_type": "stream",
     "text": [
      "The correlation between mathematics and english is 0.10508060062401409 which is weak\n"
     ]
    }
   ],
   "source": [
    "correlation=df['mathematics'].corr(df['english'])\n",
    "print('The correlation between mathematics and english is '+str(correlation) + ' which is weak' )"
   ]
  },
  {
   "cell_type": "code",
   "execution_count": 127,
   "metadata": {},
   "outputs": [
    {
     "data": {
      "image/png": "[encoded data removed]",
      "text/plain": [
       "<Figure size 1800x1800 with 49 Axes>"
      ]
     },
     "metadata": {},
     "output_type": "display_data"
    }
   ],
   "source": [
    "# this is a trial of multivariate correlation after research we found out that multivariate correlation is the relationship \\\n",
    "# between three or more variables in the previous labs we learnt that a scatter matrixcan be used to compare each column to one\n",
    "# hence figured we could use it for multi varaite analysis we are not sure if we are correct though\n",
    "subjects=df.iloc[:,3:10]\n",
    "pd.plotting.scatter_matrix(subjects,figsize=(18,18));\n"
   ]
  },
  {
   "cell_type": "code",
   "execution_count": 128,
   "metadata": {},
   "outputs": [
    {
     "data": {
      "text/html": [
       "<div>\n",
       "<style scoped>\n",
       "    .dataframe tbody tr th:only-of-type {\n",
       "        vertical-align: middle;\n",
       "    }\n",
       "\n",
       "    .dataframe tbody tr th {\n",
       "        vertical-align: top;\n",
       "    }\n",
       "\n",
       "    .dataframe thead th {\n",
       "        text-align: right;\n",
       "    }\n",
       "</style>\n",
       "<table border=\"1\" class=\"dataframe\">\n",
       "  <thead>\n",
       "    <tr style=\"text-align: right;\">\n",
       "      <th></th>\n",
       "      <th>english</th>\n",
       "      <th>kiswahili</th>\n",
       "      <th>mathematics</th>\n",
       "      <th>science</th>\n",
       "      <th>sst/cre</th>\n",
       "      <th>Creative Arts</th>\n",
       "      <th>music</th>\n",
       "    </tr>\n",
       "  </thead>\n",
       "  <tbody>\n",
       "    <tr>\n",
       "      <th>english</th>\n",
       "      <td>1.000000</td>\n",
       "      <td>-0.197712</td>\n",
       "      <td>0.105081</td>\n",
       "      <td>0.054652</td>\n",
       "      <td>-0.032892</td>\n",
       "      <td>0.057902</td>\n",
       "      <td>0.067937</td>\n",
       "    </tr>\n",
       "    <tr>\n",
       "      <th>kiswahili</th>\n",
       "      <td>-0.197712</td>\n",
       "      <td>1.000000</td>\n",
       "      <td>-0.068470</td>\n",
       "      <td>0.027904</td>\n",
       "      <td>0.004881</td>\n",
       "      <td>-0.153506</td>\n",
       "      <td>0.030360</td>\n",
       "    </tr>\n",
       "    <tr>\n",
       "      <th>mathematics</th>\n",
       "      <td>0.105081</td>\n",
       "      <td>-0.068470</td>\n",
       "      <td>1.000000</td>\n",
       "      <td>0.141935</td>\n",
       "      <td>0.043315</td>\n",
       "      <td>0.188251</td>\n",
       "      <td>-0.067145</td>\n",
       "    </tr>\n",
       "    <tr>\n",
       "      <th>science</th>\n",
       "      <td>0.054652</td>\n",
       "      <td>0.027904</td>\n",
       "      <td>0.141935</td>\n",
       "      <td>1.000000</td>\n",
       "      <td>-0.088314</td>\n",
       "      <td>0.056464</td>\n",
       "      <td>-0.149112</td>\n",
       "    </tr>\n",
       "    <tr>\n",
       "      <th>sst/cre</th>\n",
       "      <td>-0.032892</td>\n",
       "      <td>0.004881</td>\n",
       "      <td>0.043315</td>\n",
       "      <td>-0.088314</td>\n",
       "      <td>1.000000</td>\n",
       "      <td>-0.052203</td>\n",
       "      <td>0.123032</td>\n",
       "    </tr>\n",
       "    <tr>\n",
       "      <th>Creative Arts</th>\n",
       "      <td>0.057902</td>\n",
       "      <td>-0.153506</td>\n",
       "      <td>0.188251</td>\n",
       "      <td>0.056464</td>\n",
       "      <td>-0.052203</td>\n",
       "      <td>1.000000</td>\n",
       "      <td>-0.127826</td>\n",
       "    </tr>\n",
       "    <tr>\n",
       "      <th>music</th>\n",
       "      <td>0.067937</td>\n",
       "      <td>0.030360</td>\n",
       "      <td>-0.067145</td>\n",
       "      <td>-0.149112</td>\n",
       "      <td>0.123032</td>\n",
       "      <td>-0.127826</td>\n",
       "      <td>1.000000</td>\n",
       "    </tr>\n",
       "  </tbody>\n",
       "</table>\n",
       "</div>"
      ],
      "text/plain": [
       "                english  kiswahili  mathematics   science   sst/cre  \\\n",
       "english        1.000000  -0.197712     0.105081  0.054652 -0.032892   \n",
       "kiswahili     -0.197712   1.000000    -0.068470  0.027904  0.004881   \n",
       "mathematics    0.105081  -0.068470     1.000000  0.141935  0.043315   \n",
       "science        0.054652   0.027904     0.141935  1.000000 -0.088314   \n",
       "sst/cre       -0.032892   0.004881     0.043315 -0.088314  1.000000   \n",
       "Creative Arts  0.057902  -0.153506     0.188251  0.056464 -0.052203   \n",
       "music          0.067937   0.030360    -0.067145 -0.149112  0.123032   \n",
       "\n",
       "               Creative Arts     music  \n",
       "english             0.057902  0.067937  \n",
       "kiswahili          -0.153506  0.030360  \n",
       "mathematics         0.188251 -0.067145  \n",
       "science             0.056464 -0.149112  \n",
       "sst/cre            -0.052203  0.123032  \n",
       "Creative Arts       1.000000 -0.127826  \n",
       "music              -0.127826  1.000000  "
      ]
     },
     "execution_count": 128,
     "metadata": {},
     "output_type": "execute_result"
    }
   ],
   "source": [
    "subjects.corr()"
   ]
  },
  {
   "cell_type": "markdown",
   "metadata": {
    "id": "XxR1x-9sdKBn"
   },
   "source": [
    "## Special functions for analysis in pandas or otherwise"
   ]
  },
  {
   "cell_type": "markdown",
   "metadata": {
    "id": "FIlc2kWT6MzQ"
   },
   "source": [
    "## Using Lambda functions\n",
    "\n",
    "What is a lambda function?\n",
    "\n",
    "Refers to an anonymous function (ie a function definition that is not bound to an identifier unless assigned one) intended as a shorthand function. \n",
    "\n",
    "They come in handy since one doesn't have to write multiple lines of code defining a function, and they are written inline."
   ]
  },
  {
   "cell_type": "markdown",
   "metadata": {
    "id": "fr8FPLZJ6MzR"
   },
   "source": [
    "### using ```.apply()```"
   ]
  },
  {
   "cell_type": "code",
   "execution_count": 129,
   "metadata": {
    "colab": {
     "base_uri": "https://localhost:8080/",
     "height": 206
    },
    "id": "6x24_6I06MzR",
    "outputId": "bc72eb40-ef77-45ca-d240-48cd96c35404"
   },
   "outputs": [
    {
     "data": {
      "text/html": [
       "<div>\n",
       "<style scoped>\n",
       "    .dataframe tbody tr th:only-of-type {\n",
       "        vertical-align: middle;\n",
       "    }\n",
       "\n",
       "    .dataframe tbody tr th {\n",
       "        vertical-align: top;\n",
       "    }\n",
       "\n",
       "    .dataframe thead th {\n",
       "        text-align: right;\n",
       "    }\n",
       "</style>\n",
       "<table border=\"1\" class=\"dataframe\">\n",
       "  <thead>\n",
       "    <tr style=\"text-align: right;\">\n",
       "      <th></th>\n",
       "      <th>names</th>\n",
       "      <th>admission number</th>\n",
       "      <th>balance</th>\n",
       "      <th>english</th>\n",
       "      <th>kiswahili</th>\n",
       "      <th>mathematics</th>\n",
       "      <th>science</th>\n",
       "      <th>sst/cre</th>\n",
       "      <th>Creative Arts</th>\n",
       "      <th>music</th>\n",
       "    </tr>\n",
       "  </thead>\n",
       "  <tbody>\n",
       "    <tr>\n",
       "      <th>115</th>\n",
       "      <td>Bin Amin, Ng'eno</td>\n",
       "      <td>13159.0</td>\n",
       "      <td>0.0</td>\n",
       "      <td>58.0</td>\n",
       "      <td>74.0</td>\n",
       "      <td>72.0</td>\n",
       "      <td>68.0</td>\n",
       "      <td>70.0</td>\n",
       "      <td>51.0</td>\n",
       "      <td>44.0</td>\n",
       "    </tr>\n",
       "    <tr>\n",
       "      <th>116</th>\n",
       "      <td>Catherine Ndung'u, Kate</td>\n",
       "      <td>13187.0</td>\n",
       "      <td>0.0</td>\n",
       "      <td>84.0</td>\n",
       "      <td>74.0</td>\n",
       "      <td>68.0</td>\n",
       "      <td>68.0</td>\n",
       "      <td>48.0</td>\n",
       "      <td>91.0</td>\n",
       "      <td>64.0</td>\n",
       "    </tr>\n",
       "    <tr>\n",
       "      <th>117</th>\n",
       "      <td>Daisy Machoka, Daniel</td>\n",
       "      <td>13168.0</td>\n",
       "      <td>18161.0</td>\n",
       "      <td>70.0</td>\n",
       "      <td>74.0</td>\n",
       "      <td>72.0</td>\n",
       "      <td>68.0</td>\n",
       "      <td>70.0</td>\n",
       "      <td>78.0</td>\n",
       "      <td>86.0</td>\n",
       "    </tr>\n",
       "    <tr>\n",
       "      <th>118</th>\n",
       "      <td>Daniel Karanja, Wambui</td>\n",
       "      <td>13133.0</td>\n",
       "      <td>33619.0</td>\n",
       "      <td>78.0</td>\n",
       "      <td>74.0</td>\n",
       "      <td>78.0</td>\n",
       "      <td>68.0</td>\n",
       "      <td>29.0</td>\n",
       "      <td>80.0</td>\n",
       "      <td>84.0</td>\n",
       "    </tr>\n",
       "    <tr>\n",
       "      <th>144</th>\n",
       "      <td>JOB, KAMAU</td>\n",
       "      <td>1430232.0</td>\n",
       "      <td>43200.0</td>\n",
       "      <td>98.0</td>\n",
       "      <td>80.0</td>\n",
       "      <td>86.0</td>\n",
       "      <td>64.0</td>\n",
       "      <td>99.0</td>\n",
       "      <td>49.0</td>\n",
       "      <td>69.0</td>\n",
       "    </tr>\n",
       "  </tbody>\n",
       "</table>\n",
       "</div>"
      ],
      "text/plain": [
       "                       names  admission number  balance  english  kiswahili  \\\n",
       "115         Bin Amin, Ng'eno           13159.0      0.0     58.0       74.0   \n",
       "116  Catherine Ndung'u, Kate           13187.0      0.0     84.0       74.0   \n",
       "117    Daisy Machoka, Daniel           13168.0  18161.0     70.0       74.0   \n",
       "118   Daniel Karanja, Wambui           13133.0  33619.0     78.0       74.0   \n",
       "144               JOB, KAMAU         1430232.0  43200.0     98.0       80.0   \n",
       "\n",
       "     mathematics  science  sst/cre  Creative Arts  music  \n",
       "115         72.0     68.0     70.0           51.0   44.0  \n",
       "116         68.0     68.0     48.0           91.0   64.0  \n",
       "117         72.0     68.0     70.0           78.0   86.0  \n",
       "118         78.0     68.0     29.0           80.0   84.0  \n",
       "144         86.0     64.0     99.0           49.0   69.0  "
      ]
     },
     "execution_count": 129,
     "metadata": {},
     "output_type": "execute_result"
    }
   ],
   "source": [
    "# using lamda function to remove the decimals in the scores that resulted from replacing with mean\n",
    "deci_columns = [\"english\", \"kiswahili\", \"mathematics\",\"science\", \"sst/cre\"]\n",
    "\n",
    "for col in deci_columns:\n",
    "    df[col] = df[col].apply(lambda x: np.trunc(x))\n",
    "\n",
    "# preview the data\n",
    "df.tail()"
   ]
  },
  {
   "cell_type": "code",
   "execution_count": 130,
   "metadata": {
    "colab": {
     "base_uri": "https://localhost:8080/"
    },
    "id": "iKA2_KTteIgd",
    "outputId": "5b26d3db-d120-4bf4-eb05-4021e410f786"
   },
   "outputs": [
    {
     "data": {
      "text/plain": [
       "names                object\n",
       "admission number    float64\n",
       "balance             float64\n",
       "english             float64\n",
       "kiswahili           float64\n",
       "mathematics         float64\n",
       "science             float64\n",
       "sst/cre             float64\n",
       "Creative Arts       float64\n",
       "music               float64\n",
       "dtype: object"
      ]
     },
     "execution_count": 130,
     "metadata": {},
     "output_type": "execute_result"
    }
   ],
   "source": [
    "df.dtypes"
   ]
  },
  {
   "cell_type": "markdown",
   "metadata": {
    "id": "ta0NxNai6MzR"
   },
   "source": [
    "### using ```.assign()```"
   ]
  },
  {
   "cell_type": "code",
   "execution_count": 131,
   "metadata": {
    "id": "OwJ_lYJ46MzS"
   },
   "outputs": [],
   "source": [
    "# lets find the students total\n",
    "df = df.assign(Total = lambda x: x[\"english\"] + x[\"kiswahili\"] + x[\"mathematics\"] + x[\"science\"] + x[\"sst/cre\"] + x[\"Creative Arts\"] + x[\"music\"])"
   ]
  },
  {
   "cell_type": "code",
   "execution_count": 132,
   "metadata": {
    "colab": {
     "base_uri": "https://localhost:8080/",
     "height": 206
    },
    "id": "3sgsxEg66MzS",
    "outputId": "8a1f2ea6-11d1-4370-f575-b17d85e5a059"
   },
   "outputs": [
    {
     "data": {
      "text/html": [
       "<div>\n",
       "<style scoped>\n",
       "    .dataframe tbody tr th:only-of-type {\n",
       "        vertical-align: middle;\n",
       "    }\n",
       "\n",
       "    .dataframe tbody tr th {\n",
       "        vertical-align: top;\n",
       "    }\n",
       "\n",
       "    .dataframe thead th {\n",
       "        text-align: right;\n",
       "    }\n",
       "</style>\n",
       "<table border=\"1\" class=\"dataframe\">\n",
       "  <thead>\n",
       "    <tr style=\"text-align: right;\">\n",
       "      <th></th>\n",
       "      <th>names</th>\n",
       "      <th>admission number</th>\n",
       "      <th>balance</th>\n",
       "      <th>english</th>\n",
       "      <th>kiswahili</th>\n",
       "      <th>mathematics</th>\n",
       "      <th>science</th>\n",
       "      <th>sst/cre</th>\n",
       "      <th>Creative Arts</th>\n",
       "      <th>music</th>\n",
       "      <th>Total</th>\n",
       "    </tr>\n",
       "  </thead>\n",
       "  <tbody>\n",
       "    <tr>\n",
       "      <th>0</th>\n",
       "      <td>JERIEL NDEDA, OBURA</td>\n",
       "      <td>13259.0</td>\n",
       "      <td>0.0</td>\n",
       "      <td>81.0</td>\n",
       "      <td>39.0</td>\n",
       "      <td>50.0</td>\n",
       "      <td>30.0</td>\n",
       "      <td>59.0</td>\n",
       "      <td>99.0</td>\n",
       "      <td>80.0</td>\n",
       "      <td>438.0</td>\n",
       "    </tr>\n",
       "    <tr>\n",
       "      <th>1</th>\n",
       "      <td>MUKUHA TIMOTHY, KAMAU</td>\n",
       "      <td>13243.0</td>\n",
       "      <td>0.0</td>\n",
       "      <td>85.0</td>\n",
       "      <td>74.0</td>\n",
       "      <td>68.0</td>\n",
       "      <td>49.0</td>\n",
       "      <td>78.0</td>\n",
       "      <td>38.0</td>\n",
       "      <td>86.0</td>\n",
       "      <td>478.0</td>\n",
       "    </tr>\n",
       "    <tr>\n",
       "      <th>2</th>\n",
       "      <td>JOB, NGARA</td>\n",
       "      <td>13307.0</td>\n",
       "      <td>0.0</td>\n",
       "      <td>54.0</td>\n",
       "      <td>49.0</td>\n",
       "      <td>53.0</td>\n",
       "      <td>59.0</td>\n",
       "      <td>72.0</td>\n",
       "      <td>86.0</td>\n",
       "      <td>62.0</td>\n",
       "      <td>435.0</td>\n",
       "    </tr>\n",
       "    <tr>\n",
       "      <th>3</th>\n",
       "      <td>CHEGE DAVID, KAMAU</td>\n",
       "      <td>13258.0</td>\n",
       "      <td>0.0</td>\n",
       "      <td>71.0</td>\n",
       "      <td>97.0</td>\n",
       "      <td>92.0</td>\n",
       "      <td>41.0</td>\n",
       "      <td>81.0</td>\n",
       "      <td>77.0</td>\n",
       "      <td>80.0</td>\n",
       "      <td>539.0</td>\n",
       "    </tr>\n",
       "    <tr>\n",
       "      <th>4</th>\n",
       "      <td>RAMADHAN MUSA, TEPO</td>\n",
       "      <td>13363.0</td>\n",
       "      <td>0.0</td>\n",
       "      <td>40.0</td>\n",
       "      <td>84.0</td>\n",
       "      <td>74.0</td>\n",
       "      <td>82.0</td>\n",
       "      <td>89.0</td>\n",
       "      <td>64.0</td>\n",
       "      <td>46.0</td>\n",
       "      <td>479.0</td>\n",
       "    </tr>\n",
       "  </tbody>\n",
       "</table>\n",
       "</div>"
      ],
      "text/plain": [
       "                   names  admission number  balance  english  kiswahili  \\\n",
       "0    JERIEL NDEDA, OBURA           13259.0      0.0     81.0       39.0   \n",
       "1  MUKUHA TIMOTHY, KAMAU           13243.0      0.0     85.0       74.0   \n",
       "2             JOB, NGARA           13307.0      0.0     54.0       49.0   \n",
       "3     CHEGE DAVID, KAMAU           13258.0      0.0     71.0       97.0   \n",
       "4    RAMADHAN MUSA, TEPO           13363.0      0.0     40.0       84.0   \n",
       "\n",
       "   mathematics  science  sst/cre  Creative Arts  music  Total  \n",
       "0         50.0     30.0     59.0           99.0   80.0  438.0  \n",
       "1         68.0     49.0     78.0           38.0   86.0  478.0  \n",
       "2         53.0     59.0     72.0           86.0   62.0  435.0  \n",
       "3         92.0     41.0     81.0           77.0   80.0  539.0  \n",
       "4         74.0     82.0     89.0           64.0   46.0  479.0  "
      ]
     },
     "execution_count": 132,
     "metadata": {},
     "output_type": "execute_result"
    }
   ],
   "source": [
    "df.head()"
   ]
  },
  {
   "cell_type": "code",
   "execution_count": null,
   "metadata": {
    "id": "DRq1B62_fYgj"
   },
   "outputs": [],
   "source": []
  }
 ],
 "metadata": {
  "colab": {
   "provenance": []
  },
  "kernelspec": {
   "display_name": "Python 3 (ipykernel)",
   "language": "python",
   "name": "python3"
  },
  "language_info": {
   "codemirror_mode": {
    "name": "ipython",
    "version": 3
   },
   "file_extension": ".py",
   "mimetype": "text/x-python",
   "name": "python",
   "nbconvert_exporter": "python",
   "pygments_lexer": "ipython3",
   "version": "3.9.15"
  }
 },
 "nbformat": 4,
 "nbformat_minor": 1
}
